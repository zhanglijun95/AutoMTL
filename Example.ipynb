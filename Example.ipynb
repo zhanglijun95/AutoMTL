{
 "cells": [
  {
   "cell_type": "code",
   "execution_count": 2,
   "metadata": {
    "pycharm": {
     "name": "#%%\n"
    }
   },
   "outputs": [],
   "source": [
    "import numpy as np\n",
    "import os\n",
    "import warnings\n",
    "warnings.simplefilter(action='ignore', category=FutureWarning)\n",
    "import matplotlib.pyplot as plt\n",
    "from mtl_pytorch import layer_node\n",
    "import torch\n",
    "import torch.nn as nn\n",
    "import torch.nn.functional as F\n",
    "from torch.utils.data import DataLoader\n",
    "from torch.utils.tensorboard import SummaryWriter\n",
    "\n",
    "from framework.mtl_model import MTLModel\n",
    "from framework.trainer import Trainer\n",
    "from data.heads.pixel2pixel import ASPPHeadNode\n",
    "\n",
    "from data.dataloader.cityscapes_dataloader import CityScapes\n",
    "from data.metrics.pixel2pixel_loss import CityScapesCriterions\n",
    "from data.metrics.pixel2pixel_metrics import CityScapesMetrics\n",
    "\n",
    "from data.dataloader.nyuv2_dataloader import NYU_v2\n",
    "from data.metrics.pixel2pixel_loss import NYUCriterions\n",
    "from data.metrics.pixel2pixel_metrics import NYUMetrics\n",
    "\n",
    "from data.dataloader.taskonomy_dataloader import Taskonomy\n",
    "from data.metrics.pixel2pixel_loss import TaskonomyCriterions\n",
    "from data.metrics.pixel2pixel_metrics import TaskonomyMetrics"
   ]
  },
  {
   "cell_type": "markdown",
   "metadata": {
    "pycharm": {
     "name": "#%% md\n"
    }
   },
   "source": [
    "# Data"
   ]
  },
  {
   "cell_type": "code",
   "execution_count": 3,
   "metadata": {
    "pycharm": {
     "name": "#%%\n"
    }
   },
   "outputs": [
    {
     "name": "stderr",
     "output_type": "stream",
     "text": [
      "/Users/mike/Mine/Academic/research/AutoMTL/data/dataloader/cityscapes_dataloader.py:72: SyntaxWarning: \"is\" with a literal. Did you mean \"==\"?\n",
      "  if self.task is 'segment_semantic':\n",
      "/Users/mike/Mine/Academic/research/AutoMTL/data/dataloader/cityscapes_dataloader.py:92: SyntaxWarning: \"is\" with a literal. Did you mean \"==\"?\n",
      "  if self.task is 'segment_semantic':\n",
      "/Users/mike/Mine/Academic/research/AutoMTL/data/dataloader/cityscapes_dataloader.py:106: SyntaxWarning: \"is\" with a literal. Did you mean \"==\"?\n",
      "  if self.task is 'segment_semantic':\n",
      "/Users/mike/Mine/Academic/research/AutoMTL/data/dataloader/cityscapes_dataloader.py:108: SyntaxWarning: \"is\" with a literal. Did you mean \"==\"?\n",
      "  elif  self.task is 'depth_zbuffer':\n",
      "/Users/mike/Mine/Academic/research/AutoMTL/data/dataloader/cityscapes_dataloader.py:124: SyntaxWarning: \"is\" with a literal. Did you mean \"==\"?\n",
      "  if self.task is 'segment_semantic':\n",
      "/Users/mike/Mine/Academic/research/AutoMTL/data/dataloader/cityscapes_dataloader.py:126: SyntaxWarning: \"is\" with a literal. Did you mean \"==\"?\n",
      "  elif  self.task is 'depth_zbuffer':\n",
      "/Users/mike/Mine/Academic/research/AutoMTL/data/dataloader/cityscapes_dataloader.py:72: SyntaxWarning: \"is\" with a literal. Did you mean \"==\"?\n",
      "  if self.task is 'segment_semantic':\n",
      "/Users/mike/Mine/Academic/research/AutoMTL/data/dataloader/cityscapes_dataloader.py:92: SyntaxWarning: \"is\" with a literal. Did you mean \"==\"?\n",
      "  if self.task is 'segment_semantic':\n",
      "/Users/mike/Mine/Academic/research/AutoMTL/data/dataloader/cityscapes_dataloader.py:106: SyntaxWarning: \"is\" with a literal. Did you mean \"==\"?\n",
      "  if self.task is 'segment_semantic':\n",
      "/Users/mike/Mine/Academic/research/AutoMTL/data/dataloader/cityscapes_dataloader.py:108: SyntaxWarning: \"is\" with a literal. Did you mean \"==\"?\n",
      "  elif  self.task is 'depth_zbuffer':\n",
      "/Users/mike/Mine/Academic/research/AutoMTL/data/dataloader/cityscapes_dataloader.py:124: SyntaxWarning: \"is\" with a literal. Did you mean \"==\"?\n",
      "  if self.task is 'segment_semantic':\n",
      "/Users/mike/Mine/Academic/research/AutoMTL/data/dataloader/cityscapes_dataloader.py:126: SyntaxWarning: \"is\" with a literal. Did you mean \"==\"?\n",
      "  elif  self.task is 'depth_zbuffer':\n"
     ]
    },
    {
     "ename": "FileNotFoundError",
     "evalue": "[Errno 2] No such file or directory: 'datasets/Cityscapes/cityscape.json'",
     "output_type": "error",
     "traceback": [
      "\u001B[0;31m---------------------------------------------------------------------------\u001B[0m",
      "\u001B[0;31mFileNotFoundError\u001B[0m                         Traceback (most recent call last)",
      "Input \u001B[0;32mIn [3]\u001B[0m, in \u001B[0;36m<module>\u001B[0;34m\u001B[0m\n\u001B[1;32m     12\u001B[0m headsDict[task] \u001B[38;5;241m=\u001B[39m ASPPHeadNode(\u001B[38;5;241m512\u001B[39m, task_cls_num[task])\n\u001B[1;32m     14\u001B[0m \u001B[38;5;66;03m# For model trainer\u001B[39;00m\n\u001B[0;32m---> 15\u001B[0m dataset \u001B[38;5;241m=\u001B[39m \u001B[43mCityScapes\u001B[49m\u001B[43m(\u001B[49m\u001B[43mdataroot\u001B[49m\u001B[43m,\u001B[49m\u001B[43m \u001B[49m\u001B[38;5;124;43m'\u001B[39;49m\u001B[38;5;124;43mtrain\u001B[39;49m\u001B[38;5;124;43m'\u001B[39;49m\u001B[43m,\u001B[49m\u001B[43m \u001B[49m\u001B[43mtask\u001B[49m\u001B[43m,\u001B[49m\u001B[43m \u001B[49m\u001B[43mcrop_h\u001B[49m\u001B[38;5;241;43m=\u001B[39;49m\u001B[38;5;241;43m224\u001B[39;49m\u001B[43m,\u001B[49m\u001B[43m \u001B[49m\u001B[43mcrop_w\u001B[49m\u001B[38;5;241;43m=\u001B[39;49m\u001B[38;5;241;43m224\u001B[39;49m\u001B[43m)\u001B[49m\n\u001B[1;32m     16\u001B[0m trainDataloaderDict[task] \u001B[38;5;241m=\u001B[39m DataLoader(dataset, \u001B[38;5;241m16\u001B[39m, shuffle\u001B[38;5;241m=\u001B[39m\u001B[38;5;28;01mTrue\u001B[39;00m)\n\u001B[1;32m     18\u001B[0m dataset \u001B[38;5;241m=\u001B[39m CityScapes(dataroot, \u001B[38;5;124m'\u001B[39m\u001B[38;5;124mtest\u001B[39m\u001B[38;5;124m'\u001B[39m, task)\n",
      "File \u001B[0;32m~/Mine/Academic/research/AutoMTL/data/dataloader/cityscapes_dataloader.py:28\u001B[0m, in \u001B[0;36mCityScapes.__init__\u001B[0;34m(self, dataroot, mode, task, crop_h, crop_w)\u001B[0m\n\u001B[1;32m     25\u001B[0m \u001B[38;5;28mself\u001B[39m\u001B[38;5;241m.\u001B[39mIMG_MEAN \u001B[38;5;241m=\u001B[39m np\u001B[38;5;241m.\u001B[39mtile(\u001B[38;5;28mself\u001B[39m\u001B[38;5;241m.\u001B[39mIMG_MEAN[np\u001B[38;5;241m.\u001B[39mnewaxis, np\u001B[38;5;241m.\u001B[39mnewaxis, :], (\u001B[38;5;28mself\u001B[39m\u001B[38;5;241m.\u001B[39mcrop_h, \u001B[38;5;28mself\u001B[39m\u001B[38;5;241m.\u001B[39mcrop_w, \u001B[38;5;241m1\u001B[39m))\n\u001B[1;32m     27\u001B[0m json_file \u001B[38;5;241m=\u001B[39m dataroot \u001B[38;5;241m+\u001B[39m \u001B[38;5;124m'\u001B[39m\u001B[38;5;124mcityscape.json\u001B[39m\u001B[38;5;124m'\u001B[39m\n\u001B[0;32m---> 28\u001B[0m \u001B[38;5;28;01mwith\u001B[39;00m \u001B[38;5;28;43mopen\u001B[39;49m\u001B[43m(\u001B[49m\u001B[43mjson_file\u001B[49m\u001B[43m,\u001B[49m\u001B[43m \u001B[49m\u001B[38;5;124;43m'\u001B[39;49m\u001B[38;5;124;43mr\u001B[39;49m\u001B[38;5;124;43m'\u001B[39;49m\u001B[43m)\u001B[49m \u001B[38;5;28;01mas\u001B[39;00m f:\n\u001B[1;32m     29\u001B[0m     info \u001B[38;5;241m=\u001B[39m json\u001B[38;5;241m.\u001B[39mload(f)\n\u001B[1;32m     30\u001B[0m \u001B[38;5;28mself\u001B[39m\u001B[38;5;241m.\u001B[39mfiles \u001B[38;5;241m=\u001B[39m info[\u001B[38;5;28mself\u001B[39m\u001B[38;5;241m.\u001B[39mmode]\n",
      "\u001B[0;31mFileNotFoundError\u001B[0m: [Errno 2] No such file or directory: 'datasets/Cityscapes/cityscape.json'"
     ]
    }
   ],
   "source": [
    "dataroot = 'datasets/Cityscapes/'\n",
    "headsDict = nn.ModuleDict()\n",
    "trainDataloaderDict = {}\n",
    "valDataloaderDict = {}\n",
    "criterionDict = {}\n",
    "metricDict = {}\n",
    "\n",
    "tasks = ['segment_semantic', 'depth_zbuffer']\n",
    "task_cls_num = {'segment_semantic': 19, 'depth_zbuffer': 1}\n",
    "for task in tasks:\n",
    "    headsDict[task] = ASPPHeadNode(512, task_cls_num[task])\n",
    "\n",
    "    # For model trainer\n",
    "    dataset = CityScapes(dataroot, 'train', task, crop_h=224, crop_w=224)\n",
    "    trainDataloaderDict[task] = DataLoader(dataset, 16, shuffle=True)\n",
    "\n",
    "    dataset = CityScapes(dataroot, 'test', task)\n",
    "    valDataloaderDict[task] = DataLoader(dataset, 16, shuffle=True)\n",
    "\n",
    "    criterionDict[task] = CityScapesCriterions(task)\n",
    "    metricDict[task] = CityScapesMetrics(task)"
   ]
  },
  {
   "cell_type": "code",
   "execution_count": 4,
   "metadata": {
    "pycharm": {
     "name": "#%%\n"
    }
   },
   "outputs": [
    {
     "name": "stderr",
     "output_type": "stream",
     "text": [
      "/Users/mike/Mine/Academic/research/AutoMTL/data/dataloader/nyuv2_dataloader.py:48: SyntaxWarning: \"is\" with a literal. Did you mean \"==\"?\n",
      "  if self.task is 'normal':\n",
      "/Users/mike/Mine/Academic/research/AutoMTL/data/dataloader/nyuv2_dataloader.py:65: SyntaxWarning: \"is\" with a literal. Did you mean \"==\"?\n",
      "  if self.task is 'segment_semantic' or self.task is 'normal':\n",
      "/Users/mike/Mine/Academic/research/AutoMTL/data/dataloader/nyuv2_dataloader.py:65: SyntaxWarning: \"is\" with a literal. Did you mean \"==\"?\n",
      "  if self.task is 'segment_semantic' or self.task is 'normal':\n",
      "/Users/mike/Mine/Academic/research/AutoMTL/data/dataloader/nyuv2_dataloader.py:85: SyntaxWarning: \"is\" with a literal. Did you mean \"==\"?\n",
      "  if self.task is 'segment_semantic':\n",
      "/Users/mike/Mine/Academic/research/AutoMTL/data/dataloader/nyuv2_dataloader.py:87: SyntaxWarning: \"is\" with a literal. Did you mean \"==\"?\n",
      "  elif self.task is 'normal':\n",
      "/Users/mike/Mine/Academic/research/AutoMTL/data/dataloader/nyuv2_dataloader.py:93: SyntaxWarning: \"is\" with a literal. Did you mean \"==\"?\n",
      "  if self.task is 'normal':\n",
      "/Users/mike/Mine/Academic/research/AutoMTL/data/dataloader/nyuv2_dataloader.py:102: SyntaxWarning: \"is\" with a literal. Did you mean \"==\"?\n",
      "  if self.task is 'segment_semantic':\n",
      "/Users/mike/Mine/Academic/research/AutoMTL/data/dataloader/nyuv2_dataloader.py:104: SyntaxWarning: \"is\" with a literal. Did you mean \"==\"?\n",
      "  elif self.task is 'normal':\n",
      "/Users/mike/Mine/Academic/research/AutoMTL/data/dataloader/nyuv2_dataloader.py:106: SyntaxWarning: \"is\" with a literal. Did you mean \"==\"?\n",
      "  elif self.task is 'depth_zbuffer':\n",
      "/Users/mike/Mine/Academic/research/AutoMTL/data/dataloader/nyuv2_dataloader.py:109: SyntaxWarning: \"is\" with a literal. Did you mean \"==\"?\n",
      "  if self.mode is 'train':\n",
      "/Users/mike/Mine/Academic/research/AutoMTL/data/dataloader/nyuv2_dataloader.py:120: SyntaxWarning: \"is\" with a literal. Did you mean \"==\"?\n",
      "  if self.task is 'segment_semantic':\n",
      "/Users/mike/Mine/Academic/research/AutoMTL/data/dataloader/nyuv2_dataloader.py:48: SyntaxWarning: \"is\" with a literal. Did you mean \"==\"?\n",
      "  if self.task is 'normal':\n",
      "/Users/mike/Mine/Academic/research/AutoMTL/data/dataloader/nyuv2_dataloader.py:65: SyntaxWarning: \"is\" with a literal. Did you mean \"==\"?\n",
      "  if self.task is 'segment_semantic' or self.task is 'normal':\n",
      "/Users/mike/Mine/Academic/research/AutoMTL/data/dataloader/nyuv2_dataloader.py:65: SyntaxWarning: \"is\" with a literal. Did you mean \"==\"?\n",
      "  if self.task is 'segment_semantic' or self.task is 'normal':\n",
      "/Users/mike/Mine/Academic/research/AutoMTL/data/dataloader/nyuv2_dataloader.py:85: SyntaxWarning: \"is\" with a literal. Did you mean \"==\"?\n",
      "  if self.task is 'segment_semantic':\n",
      "/Users/mike/Mine/Academic/research/AutoMTL/data/dataloader/nyuv2_dataloader.py:87: SyntaxWarning: \"is\" with a literal. Did you mean \"==\"?\n",
      "  elif self.task is 'normal':\n",
      "/Users/mike/Mine/Academic/research/AutoMTL/data/dataloader/nyuv2_dataloader.py:93: SyntaxWarning: \"is\" with a literal. Did you mean \"==\"?\n",
      "  if self.task is 'normal':\n",
      "/Users/mike/Mine/Academic/research/AutoMTL/data/dataloader/nyuv2_dataloader.py:102: SyntaxWarning: \"is\" with a literal. Did you mean \"==\"?\n",
      "  if self.task is 'segment_semantic':\n",
      "/Users/mike/Mine/Academic/research/AutoMTL/data/dataloader/nyuv2_dataloader.py:104: SyntaxWarning: \"is\" with a literal. Did you mean \"==\"?\n",
      "  elif self.task is 'normal':\n",
      "/Users/mike/Mine/Academic/research/AutoMTL/data/dataloader/nyuv2_dataloader.py:106: SyntaxWarning: \"is\" with a literal. Did you mean \"==\"?\n",
      "  elif self.task is 'depth_zbuffer':\n",
      "/Users/mike/Mine/Academic/research/AutoMTL/data/dataloader/nyuv2_dataloader.py:109: SyntaxWarning: \"is\" with a literal. Did you mean \"==\"?\n",
      "  if self.mode is 'train':\n",
      "/Users/mike/Mine/Academic/research/AutoMTL/data/dataloader/nyuv2_dataloader.py:120: SyntaxWarning: \"is\" with a literal. Did you mean \"==\"?\n",
      "  if self.task is 'segment_semantic':\n"
     ]
    },
    {
     "ename": "FileNotFoundError",
     "evalue": "[Errno 2] No such file or directory: 'datasets/NYUv2/nyu_v2_3task.json'",
     "output_type": "error",
     "traceback": [
      "\u001B[0;31m---------------------------------------------------------------------------\u001B[0m",
      "\u001B[0;31mFileNotFoundError\u001B[0m                         Traceback (most recent call last)",
      "Input \u001B[0;32mIn [4]\u001B[0m, in \u001B[0;36m<module>\u001B[0;34m\u001B[0m\n\u001B[1;32m     12\u001B[0m headsDict[task] \u001B[38;5;241m=\u001B[39m ASPPHeadNode(\u001B[38;5;241m512\u001B[39m, task_cls_num[task])\n\u001B[1;32m     14\u001B[0m \u001B[38;5;66;03m# For model trainer\u001B[39;00m\n\u001B[0;32m---> 15\u001B[0m dataset \u001B[38;5;241m=\u001B[39m \u001B[43mNYU_v2\u001B[49m\u001B[43m(\u001B[49m\u001B[43mdataroot\u001B[49m\u001B[43m,\u001B[49m\u001B[43m \u001B[49m\u001B[38;5;124;43m'\u001B[39;49m\u001B[38;5;124;43mtrain\u001B[39;49m\u001B[38;5;124;43m'\u001B[39;49m\u001B[43m,\u001B[49m\u001B[43m \u001B[49m\u001B[43mtask\u001B[49m\u001B[43m,\u001B[49m\u001B[43m \u001B[49m\u001B[43mcrop_h\u001B[49m\u001B[38;5;241;43m=\u001B[39;49m\u001B[38;5;241;43m321\u001B[39;49m\u001B[43m,\u001B[49m\u001B[43m \u001B[49m\u001B[43mcrop_w\u001B[49m\u001B[38;5;241;43m=\u001B[39;49m\u001B[38;5;241;43m321\u001B[39;49m\u001B[43m)\u001B[49m\n\u001B[1;32m     16\u001B[0m trainDataloaderDict[task] \u001B[38;5;241m=\u001B[39m DataLoader(dataset, \u001B[38;5;241m16\u001B[39m, shuffle\u001B[38;5;241m=\u001B[39m\u001B[38;5;28;01mTrue\u001B[39;00m)\n\u001B[1;32m     18\u001B[0m dataset \u001B[38;5;241m=\u001B[39m NYU_v2(dataroot, \u001B[38;5;124m'\u001B[39m\u001B[38;5;124mtest\u001B[39m\u001B[38;5;124m'\u001B[39m, task, crop_h\u001B[38;5;241m=\u001B[39m\u001B[38;5;241m321\u001B[39m, crop_w\u001B[38;5;241m=\u001B[39m\u001B[38;5;241m321\u001B[39m)\n",
      "File \u001B[0;32m~/Mine/Academic/research/AutoMTL/data/dataloader/nyuv2_dataloader.py:30\u001B[0m, in \u001B[0;36mNYU_v2.__init__\u001B[0;34m(self, dataroot, mode, task, crop_h, crop_w)\u001B[0m\n\u001B[1;32m     27\u001B[0m \u001B[38;5;28mself\u001B[39m\u001B[38;5;241m.\u001B[39mIMG_MEAN \u001B[38;5;241m=\u001B[39m np\u001B[38;5;241m.\u001B[39mtile(\u001B[38;5;28mself\u001B[39m\u001B[38;5;241m.\u001B[39mIMG_MEAN[np\u001B[38;5;241m.\u001B[39mnewaxis, np\u001B[38;5;241m.\u001B[39mnewaxis, :], (\u001B[38;5;28mself\u001B[39m\u001B[38;5;241m.\u001B[39mcrop_h, \u001B[38;5;28mself\u001B[39m\u001B[38;5;241m.\u001B[39mcrop_w, \u001B[38;5;241m1\u001B[39m))\n\u001B[1;32m     29\u001B[0m json_file \u001B[38;5;241m=\u001B[39m dataroot \u001B[38;5;241m+\u001B[39m \u001B[38;5;124m'\u001B[39m\u001B[38;5;124mnyu_v2_3task.json\u001B[39m\u001B[38;5;124m'\u001B[39m\n\u001B[0;32m---> 30\u001B[0m \u001B[38;5;28;01mwith\u001B[39;00m \u001B[38;5;28;43mopen\u001B[39;49m\u001B[43m(\u001B[49m\u001B[43mjson_file\u001B[49m\u001B[43m,\u001B[49m\u001B[43m \u001B[49m\u001B[38;5;124;43m'\u001B[39;49m\u001B[38;5;124;43mr\u001B[39;49m\u001B[38;5;124;43m'\u001B[39;49m\u001B[43m)\u001B[49m \u001B[38;5;28;01mas\u001B[39;00m f:\n\u001B[1;32m     31\u001B[0m     info \u001B[38;5;241m=\u001B[39m json\u001B[38;5;241m.\u001B[39mload(f)\n\u001B[1;32m     32\u001B[0m \u001B[38;5;28mself\u001B[39m\u001B[38;5;241m.\u001B[39mfiles \u001B[38;5;241m=\u001B[39m info[\u001B[38;5;28mself\u001B[39m\u001B[38;5;241m.\u001B[39mmode]\n",
      "\u001B[0;31mFileNotFoundError\u001B[0m: [Errno 2] No such file or directory: 'datasets/NYUv2/nyu_v2_3task.json'"
     ]
    }
   ],
   "source": [
    "dataroot = 'datasets/NYUv2/'\n",
    "\n",
    "headsDict = nn.ModuleDict()\n",
    "trainDataloaderDict = {}\n",
    "valDataloaderDict = {}\n",
    "criterionDict = {}\n",
    "metricDict = {}\n",
    "\n",
    "tasks = ['segment_semantic', 'normal', 'depth_zbuffer']\n",
    "task_cls_num = {'segment_semantic': 40, 'normal':3, 'depth_zbuffer': 1}\n",
    "for task in tasks:\n",
    "    headsDict[task] = ASPPHeadNode(512, task_cls_num[task])\n",
    "\n",
    "    # For model trainer\n",
    "    dataset = NYU_v2(dataroot, 'train', task, crop_h=321, crop_w=321)\n",
    "    trainDataloaderDict[task] = DataLoader(dataset, 16, shuffle=True)\n",
    "\n",
    "    dataset = NYU_v2(dataroot, 'test', task, crop_h=321, crop_w=321)\n",
    "    valDataloaderDict[task] = DataLoader(dataset, 16, shuffle=True)\n",
    "\n",
    "    criterionDict[task] = NYUCriterions(task)\n",
    "    metricDict[task] = NYUMetrics(task)"
   ]
  },
  {
   "cell_type": "code",
   "execution_count": 5,
   "metadata": {
    "pycharm": {
     "name": "#%%\n"
    }
   },
   "outputs": [
    {
     "name": "stderr",
     "output_type": "stream",
     "text": [
      "/Users/mike/Mine/Academic/research/AutoMTL/data/dataloader/taskonomy_dataloader.py:19: SyntaxWarning: \"is\" with a literal. Did you mean \"==\"?\n",
      "  if self.mode is 'train':\n",
      "/Users/mike/Mine/Academic/research/AutoMTL/data/dataloader/taskonomy_dataloader.py:92: SyntaxWarning: \"is not\" with a literal. Did you mean \"!=\"?\n",
      "  if self.task is not 'normal':\n",
      "/Users/mike/Mine/Academic/research/AutoMTL/data/dataloader/taskonomy_dataloader.py:97: SyntaxWarning: \"is\" with a literal. Did you mean \"==\"?\n",
      "  if self.task is 'segment_semantic' or self.task is 'depth_zbuffer' or self.task is 'normal':\n",
      "/Users/mike/Mine/Academic/research/AutoMTL/data/dataloader/taskonomy_dataloader.py:97: SyntaxWarning: \"is\" with a literal. Did you mean \"==\"?\n",
      "  if self.task is 'segment_semantic' or self.task is 'depth_zbuffer' or self.task is 'normal':\n",
      "/Users/mike/Mine/Academic/research/AutoMTL/data/dataloader/taskonomy_dataloader.py:97: SyntaxWarning: \"is\" with a literal. Did you mean \"==\"?\n",
      "  if self.task is 'segment_semantic' or self.task is 'depth_zbuffer' or self.task is 'normal':\n",
      "/Users/mike/Mine/Academic/research/AutoMTL/data/dataloader/taskonomy_dataloader.py:108: SyntaxWarning: \"is\" with a literal. Did you mean \"==\"?\n",
      "  if self.task is 'segment_semantic' or self.task is 'depth_zbuffer' or self.task is 'normal':\n",
      "/Users/mike/Mine/Academic/research/AutoMTL/data/dataloader/taskonomy_dataloader.py:108: SyntaxWarning: \"is\" with a literal. Did you mean \"==\"?\n",
      "  if self.task is 'segment_semantic' or self.task is 'depth_zbuffer' or self.task is 'normal':\n",
      "/Users/mike/Mine/Academic/research/AutoMTL/data/dataloader/taskonomy_dataloader.py:108: SyntaxWarning: \"is\" with a literal. Did you mean \"==\"?\n",
      "  if self.task is 'segment_semantic' or self.task is 'depth_zbuffer' or self.task is 'normal':\n",
      "/Users/mike/Mine/Academic/research/AutoMTL/data/dataloader/taskonomy_dataloader.py:110: SyntaxWarning: \"is\" with a literal. Did you mean \"==\"?\n",
      "  if self.task is 'normal':\n",
      "/Users/mike/Mine/Academic/research/AutoMTL/data/dataloader/taskonomy_dataloader.py:117: SyntaxWarning: \"is\" with a literal. Did you mean \"==\"?\n",
      "  if self.task is 'segment_semantic' or self.task is 'depth_zbuffer' or self.task is 'normal':\n",
      "/Users/mike/Mine/Academic/research/AutoMTL/data/dataloader/taskonomy_dataloader.py:117: SyntaxWarning: \"is\" with a literal. Did you mean \"==\"?\n",
      "  if self.task is 'segment_semantic' or self.task is 'depth_zbuffer' or self.task is 'normal':\n",
      "/Users/mike/Mine/Academic/research/AutoMTL/data/dataloader/taskonomy_dataloader.py:117: SyntaxWarning: \"is\" with a literal. Did you mean \"==\"?\n",
      "  if self.task is 'segment_semantic' or self.task is 'depth_zbuffer' or self.task is 'normal':\n",
      "/Users/mike/Mine/Academic/research/AutoMTL/data/dataloader/taskonomy_dataloader.py:140: SyntaxWarning: \"is\" with a literal. Did you mean \"==\"?\n",
      "  if self.task is 'normal':\n",
      "/Users/mike/Mine/Academic/research/AutoMTL/data/dataloader/taskonomy_dataloader.py:144: SyntaxWarning: \"is\" with a literal. Did you mean \"==\"?\n",
      "  if self.task is 'segment_semantic' or self.task is 'depth_zbuffer':\n",
      "/Users/mike/Mine/Academic/research/AutoMTL/data/dataloader/taskonomy_dataloader.py:144: SyntaxWarning: \"is\" with a literal. Did you mean \"==\"?\n",
      "  if self.task is 'segment_semantic' or self.task is 'depth_zbuffer':\n",
      "/Users/mike/Mine/Academic/research/AutoMTL/data/dataloader/taskonomy_dataloader.py:146: SyntaxWarning: \"is\" with a literal. Did you mean \"==\"?\n",
      "  elif self.task is 'normal':\n",
      "/Users/mike/Mine/Academic/research/AutoMTL/data/dataloader/taskonomy_dataloader.py:258: SyntaxWarning: \"is not\" with a literal. Did you mean \"!=\"?\n",
      "  if self.task is not 'normal':\n",
      "/Users/mike/Mine/Academic/research/AutoMTL/data/dataloader/taskonomy_dataloader.py:263: SyntaxWarning: \"is\" with a literal. Did you mean \"==\"?\n",
      "  if self.task is 'segment_semantic' or self.task is 'depth_zbuffer' or self.task is 'normal':\n",
      "/Users/mike/Mine/Academic/research/AutoMTL/data/dataloader/taskonomy_dataloader.py:263: SyntaxWarning: \"is\" with a literal. Did you mean \"==\"?\n",
      "  if self.task is 'segment_semantic' or self.task is 'depth_zbuffer' or self.task is 'normal':\n",
      "/Users/mike/Mine/Academic/research/AutoMTL/data/dataloader/taskonomy_dataloader.py:263: SyntaxWarning: \"is\" with a literal. Did you mean \"==\"?\n",
      "  if self.task is 'segment_semantic' or self.task is 'depth_zbuffer' or self.task is 'normal':\n",
      "/Users/mike/Mine/Academic/research/AutoMTL/data/dataloader/taskonomy_dataloader.py:275: SyntaxWarning: \"is\" with a literal. Did you mean \"==\"?\n",
      "  if self.task is 'segment_semantic':\n",
      "/Users/mike/Mine/Academic/research/AutoMTL/data/dataloader/taskonomy_dataloader.py:277: SyntaxWarning: \"is\" with a literal. Did you mean \"==\"?\n",
      "  elif self.task is 'normal':\n",
      "/Users/mike/Mine/Academic/research/AutoMTL/data/dataloader/taskonomy_dataloader.py:279: SyntaxWarning: \"is\" with a literal. Did you mean \"==\"?\n",
      "  elif self.task is 'depth_zbuffer':\n",
      "/Users/mike/Mine/Academic/research/AutoMTL/data/dataloader/taskonomy_dataloader.py:281: SyntaxWarning: \"is\" with a literal. Did you mean \"==\"?\n",
      "  elif self.task is 'keypoints2d':\n",
      "/Users/mike/Mine/Academic/research/AutoMTL/data/dataloader/taskonomy_dataloader.py:283: SyntaxWarning: \"is\" with a literal. Did you mean \"==\"?\n",
      "  elif self.task is 'edge_texture':\n",
      "/Users/mike/Mine/Academic/research/AutoMTL/data/dataloader/taskonomy_dataloader.py:297: SyntaxWarning: \"is\" with a literal. Did you mean \"==\"?\n",
      "  if self.task is 'segment_semantic':\n",
      "/Users/mike/Mine/Academic/research/AutoMTL/data/dataloader/taskonomy_dataloader.py:302: SyntaxWarning: \"is\" with a literal. Did you mean \"==\"?\n",
      "  elif self.task is 'normal':\n",
      "/Users/mike/Mine/Academic/research/AutoMTL/data/dataloader/taskonomy_dataloader.py:309: SyntaxWarning: \"is\" with a literal. Did you mean \"==\"?\n",
      "  elif self.task is 'depth_zbuffer':\n",
      "/Users/mike/Mine/Academic/research/AutoMTL/data/dataloader/taskonomy_dataloader.py:313: SyntaxWarning: \"is\" with a literal. Did you mean \"==\"?\n",
      "  elif self.task is 'keypoints2d':\n",
      "/Users/mike/Mine/Academic/research/AutoMTL/data/dataloader/taskonomy_dataloader.py:316: SyntaxWarning: \"is\" with a literal. Did you mean \"==\"?\n",
      "  elif self.task is 'edge_texture':\n",
      "/Users/mike/Mine/Academic/research/AutoMTL/data/dataloader/taskonomy_dataloader.py:321: SyntaxWarning: \"is\" with a literal. Did you mean \"==\"?\n",
      "  if self.mode is 'train':\n",
      "/Users/mike/Mine/Academic/research/AutoMTL/data/dataloader/taskonomy_dataloader.py:337: SyntaxWarning: \"is\" with a literal. Did you mean \"==\"?\n",
      "  if self.task is 'normal':\n",
      "/Users/mike/Mine/Academic/research/AutoMTL/data/dataloader/taskonomy_dataloader.py:342: SyntaxWarning: \"is\" with a literal. Did you mean \"==\"?\n",
      "  if self.task is 'segment_semantic':\n",
      "/Users/mike/Mine/Academic/research/AutoMTL/data/dataloader/taskonomy_dataloader.py:19: SyntaxWarning: \"is\" with a literal. Did you mean \"==\"?\n",
      "  if self.mode is 'train':\n",
      "/Users/mike/Mine/Academic/research/AutoMTL/data/dataloader/taskonomy_dataloader.py:92: SyntaxWarning: \"is not\" with a literal. Did you mean \"!=\"?\n",
      "  if self.task is not 'normal':\n",
      "/Users/mike/Mine/Academic/research/AutoMTL/data/dataloader/taskonomy_dataloader.py:97: SyntaxWarning: \"is\" with a literal. Did you mean \"==\"?\n",
      "  if self.task is 'segment_semantic' or self.task is 'depth_zbuffer' or self.task is 'normal':\n",
      "/Users/mike/Mine/Academic/research/AutoMTL/data/dataloader/taskonomy_dataloader.py:97: SyntaxWarning: \"is\" with a literal. Did you mean \"==\"?\n",
      "  if self.task is 'segment_semantic' or self.task is 'depth_zbuffer' or self.task is 'normal':\n",
      "/Users/mike/Mine/Academic/research/AutoMTL/data/dataloader/taskonomy_dataloader.py:97: SyntaxWarning: \"is\" with a literal. Did you mean \"==\"?\n",
      "  if self.task is 'segment_semantic' or self.task is 'depth_zbuffer' or self.task is 'normal':\n",
      "/Users/mike/Mine/Academic/research/AutoMTL/data/dataloader/taskonomy_dataloader.py:108: SyntaxWarning: \"is\" with a literal. Did you mean \"==\"?\n",
      "  if self.task is 'segment_semantic' or self.task is 'depth_zbuffer' or self.task is 'normal':\n",
      "/Users/mike/Mine/Academic/research/AutoMTL/data/dataloader/taskonomy_dataloader.py:108: SyntaxWarning: \"is\" with a literal. Did you mean \"==\"?\n",
      "  if self.task is 'segment_semantic' or self.task is 'depth_zbuffer' or self.task is 'normal':\n",
      "/Users/mike/Mine/Academic/research/AutoMTL/data/dataloader/taskonomy_dataloader.py:108: SyntaxWarning: \"is\" with a literal. Did you mean \"==\"?\n",
      "  if self.task is 'segment_semantic' or self.task is 'depth_zbuffer' or self.task is 'normal':\n",
      "/Users/mike/Mine/Academic/research/AutoMTL/data/dataloader/taskonomy_dataloader.py:110: SyntaxWarning: \"is\" with a literal. Did you mean \"==\"?\n",
      "  if self.task is 'normal':\n",
      "/Users/mike/Mine/Academic/research/AutoMTL/data/dataloader/taskonomy_dataloader.py:117: SyntaxWarning: \"is\" with a literal. Did you mean \"==\"?\n",
      "  if self.task is 'segment_semantic' or self.task is 'depth_zbuffer' or self.task is 'normal':\n",
      "/Users/mike/Mine/Academic/research/AutoMTL/data/dataloader/taskonomy_dataloader.py:117: SyntaxWarning: \"is\" with a literal. Did you mean \"==\"?\n",
      "  if self.task is 'segment_semantic' or self.task is 'depth_zbuffer' or self.task is 'normal':\n",
      "/Users/mike/Mine/Academic/research/AutoMTL/data/dataloader/taskonomy_dataloader.py:117: SyntaxWarning: \"is\" with a literal. Did you mean \"==\"?\n",
      "  if self.task is 'segment_semantic' or self.task is 'depth_zbuffer' or self.task is 'normal':\n",
      "/Users/mike/Mine/Academic/research/AutoMTL/data/dataloader/taskonomy_dataloader.py:140: SyntaxWarning: \"is\" with a literal. Did you mean \"==\"?\n",
      "  if self.task is 'normal':\n",
      "/Users/mike/Mine/Academic/research/AutoMTL/data/dataloader/taskonomy_dataloader.py:144: SyntaxWarning: \"is\" with a literal. Did you mean \"==\"?\n",
      "  if self.task is 'segment_semantic' or self.task is 'depth_zbuffer':\n",
      "/Users/mike/Mine/Academic/research/AutoMTL/data/dataloader/taskonomy_dataloader.py:144: SyntaxWarning: \"is\" with a literal. Did you mean \"==\"?\n",
      "  if self.task is 'segment_semantic' or self.task is 'depth_zbuffer':\n",
      "/Users/mike/Mine/Academic/research/AutoMTL/data/dataloader/taskonomy_dataloader.py:146: SyntaxWarning: \"is\" with a literal. Did you mean \"==\"?\n",
      "  elif self.task is 'normal':\n",
      "/Users/mike/Mine/Academic/research/AutoMTL/data/dataloader/taskonomy_dataloader.py:258: SyntaxWarning: \"is not\" with a literal. Did you mean \"!=\"?\n",
      "  if self.task is not 'normal':\n",
      "/Users/mike/Mine/Academic/research/AutoMTL/data/dataloader/taskonomy_dataloader.py:263: SyntaxWarning: \"is\" with a literal. Did you mean \"==\"?\n",
      "  if self.task is 'segment_semantic' or self.task is 'depth_zbuffer' or self.task is 'normal':\n",
      "/Users/mike/Mine/Academic/research/AutoMTL/data/dataloader/taskonomy_dataloader.py:263: SyntaxWarning: \"is\" with a literal. Did you mean \"==\"?\n",
      "  if self.task is 'segment_semantic' or self.task is 'depth_zbuffer' or self.task is 'normal':\n",
      "/Users/mike/Mine/Academic/research/AutoMTL/data/dataloader/taskonomy_dataloader.py:263: SyntaxWarning: \"is\" with a literal. Did you mean \"==\"?\n",
      "  if self.task is 'segment_semantic' or self.task is 'depth_zbuffer' or self.task is 'normal':\n",
      "/Users/mike/Mine/Academic/research/AutoMTL/data/dataloader/taskonomy_dataloader.py:275: SyntaxWarning: \"is\" with a literal. Did you mean \"==\"?\n",
      "  if self.task is 'segment_semantic':\n",
      "/Users/mike/Mine/Academic/research/AutoMTL/data/dataloader/taskonomy_dataloader.py:277: SyntaxWarning: \"is\" with a literal. Did you mean \"==\"?\n",
      "  elif self.task is 'normal':\n",
      "/Users/mike/Mine/Academic/research/AutoMTL/data/dataloader/taskonomy_dataloader.py:279: SyntaxWarning: \"is\" with a literal. Did you mean \"==\"?\n",
      "  elif self.task is 'depth_zbuffer':\n",
      "/Users/mike/Mine/Academic/research/AutoMTL/data/dataloader/taskonomy_dataloader.py:281: SyntaxWarning: \"is\" with a literal. Did you mean \"==\"?\n",
      "  elif self.task is 'keypoints2d':\n",
      "/Users/mike/Mine/Academic/research/AutoMTL/data/dataloader/taskonomy_dataloader.py:283: SyntaxWarning: \"is\" with a literal. Did you mean \"==\"?\n",
      "  elif self.task is 'edge_texture':\n",
      "/Users/mike/Mine/Academic/research/AutoMTL/data/dataloader/taskonomy_dataloader.py:297: SyntaxWarning: \"is\" with a literal. Did you mean \"==\"?\n",
      "  if self.task is 'segment_semantic':\n",
      "/Users/mike/Mine/Academic/research/AutoMTL/data/dataloader/taskonomy_dataloader.py:302: SyntaxWarning: \"is\" with a literal. Did you mean \"==\"?\n",
      "  elif self.task is 'normal':\n",
      "/Users/mike/Mine/Academic/research/AutoMTL/data/dataloader/taskonomy_dataloader.py:309: SyntaxWarning: \"is\" with a literal. Did you mean \"==\"?\n",
      "  elif self.task is 'depth_zbuffer':\n",
      "/Users/mike/Mine/Academic/research/AutoMTL/data/dataloader/taskonomy_dataloader.py:313: SyntaxWarning: \"is\" with a literal. Did you mean \"==\"?\n",
      "  elif self.task is 'keypoints2d':\n",
      "/Users/mike/Mine/Academic/research/AutoMTL/data/dataloader/taskonomy_dataloader.py:316: SyntaxWarning: \"is\" with a literal. Did you mean \"==\"?\n",
      "  elif self.task is 'edge_texture':\n",
      "/Users/mike/Mine/Academic/research/AutoMTL/data/dataloader/taskonomy_dataloader.py:321: SyntaxWarning: \"is\" with a literal. Did you mean \"==\"?\n",
      "  if self.mode is 'train':\n",
      "/Users/mike/Mine/Academic/research/AutoMTL/data/dataloader/taskonomy_dataloader.py:337: SyntaxWarning: \"is\" with a literal. Did you mean \"==\"?\n",
      "  if self.task is 'normal':\n",
      "/Users/mike/Mine/Academic/research/AutoMTL/data/dataloader/taskonomy_dataloader.py:342: SyntaxWarning: \"is\" with a literal. Did you mean \"==\"?\n",
      "  if self.task is 'segment_semantic':\n"
     ]
    },
    {
     "ename": "FileNotFoundError",
     "evalue": "[Errno 2] No such file or directory: 'datasets/Taskonomy/semseg_prior_factor.npy'",
     "output_type": "error",
     "traceback": [
      "\u001B[0;31m---------------------------------------------------------------------------\u001B[0m",
      "\u001B[0;31mFileNotFoundError\u001B[0m                         Traceback (most recent call last)",
      "Input \u001B[0;32mIn [5]\u001B[0m, in \u001B[0;36m<module>\u001B[0;34m\u001B[0m\n\u001B[1;32m     12\u001B[0m headsDict[task] \u001B[38;5;241m=\u001B[39m ASPPHeadNode(\u001B[38;5;241m512\u001B[39m, task_cls_num[task])\n\u001B[1;32m     14\u001B[0m \u001B[38;5;66;03m# For model trainer\u001B[39;00m\n\u001B[0;32m---> 15\u001B[0m dataset \u001B[38;5;241m=\u001B[39m \u001B[43mTaskonomy\u001B[49m\u001B[43m(\u001B[49m\u001B[43mdataroot\u001B[49m\u001B[43m,\u001B[49m\u001B[43m \u001B[49m\u001B[38;5;124;43m'\u001B[39;49m\u001B[38;5;124;43mtrain\u001B[39;49m\u001B[38;5;124;43m'\u001B[39;49m\u001B[43m,\u001B[49m\u001B[43m \u001B[49m\u001B[43mtask\u001B[49m\u001B[43m,\u001B[49m\u001B[43m \u001B[49m\u001B[43mcrop_h\u001B[49m\u001B[38;5;241;43m=\u001B[39;49m\u001B[38;5;241;43m224\u001B[39;49m\u001B[43m,\u001B[49m\u001B[43m \u001B[49m\u001B[43mcrop_w\u001B[49m\u001B[38;5;241;43m=\u001B[39;49m\u001B[38;5;241;43m224\u001B[39;49m\u001B[43m)\u001B[49m\n\u001B[1;32m     16\u001B[0m trainDataloaderDict[task] \u001B[38;5;241m=\u001B[39m DataLoader(dataset, batch_size\u001B[38;5;241m=\u001B[39m\u001B[38;5;241m16\u001B[39m, shuffle\u001B[38;5;241m=\u001B[39m\u001B[38;5;28;01mTrue\u001B[39;00m)\n\u001B[1;32m     18\u001B[0m dataset \u001B[38;5;241m=\u001B[39m Taskonomy(dataroot, \u001B[38;5;124m'\u001B[39m\u001B[38;5;124mtest_small\u001B[39m\u001B[38;5;124m'\u001B[39m, task, crop_h\u001B[38;5;241m=\u001B[39m\u001B[38;5;241m224\u001B[39m, crop_w\u001B[38;5;241m=\u001B[39m\u001B[38;5;241m224\u001B[39m)\n",
      "File \u001B[0;32m~/Mine/Academic/research/AutoMTL/data/dataloader/taskonomy_dataloader.py:34\u001B[0m, in \u001B[0;36mTaskonomy.__init__\u001B[0;34m(self, dataroot, mode, task, crop_h, crop_w)\u001B[0m\n\u001B[1;32m     32\u001B[0m \u001B[38;5;28mself\u001B[39m\u001B[38;5;241m.\u001B[39mIMG_MEAN \u001B[38;5;241m=\u001B[39m np\u001B[38;5;241m.\u001B[39marray((\u001B[38;5;241m104.00698793\u001B[39m, \u001B[38;5;241m116.66876762\u001B[39m, \u001B[38;5;241m122.67891434\u001B[39m), dtype\u001B[38;5;241m=\u001B[39mnp\u001B[38;5;241m.\u001B[39mfloat32)\n\u001B[1;32m     33\u001B[0m \u001B[38;5;28mself\u001B[39m\u001B[38;5;241m.\u001B[39mIMG_MEAN \u001B[38;5;241m=\u001B[39m np\u001B[38;5;241m.\u001B[39mtile(\u001B[38;5;28mself\u001B[39m\u001B[38;5;241m.\u001B[39mIMG_MEAN[np\u001B[38;5;241m.\u001B[39mnewaxis, np\u001B[38;5;241m.\u001B[39mnewaxis, :], (\u001B[38;5;28mself\u001B[39m\u001B[38;5;241m.\u001B[39mcrop_h, \u001B[38;5;28mself\u001B[39m\u001B[38;5;241m.\u001B[39mcrop_w, \u001B[38;5;241m1\u001B[39m))\n\u001B[0;32m---> 34\u001B[0m \u001B[38;5;28mself\u001B[39m\u001B[38;5;241m.\u001B[39mprior_factor \u001B[38;5;241m=\u001B[39m \u001B[43mnp\u001B[49m\u001B[38;5;241;43m.\u001B[39;49m\u001B[43mload\u001B[49m\u001B[43m(\u001B[49m\u001B[43mdataroot\u001B[49m\u001B[43m \u001B[49m\u001B[38;5;241;43m+\u001B[39;49m\u001B[43m \u001B[49m\u001B[38;5;124;43m'\u001B[39;49m\u001B[38;5;124;43msemseg_prior_factor.npy\u001B[39;49m\u001B[38;5;124;43m'\u001B[39;49m\u001B[43m)\u001B[49m\n\u001B[1;32m     36\u001B[0m json_file \u001B[38;5;241m=\u001B[39m dataroot \u001B[38;5;241m+\u001B[39m \u001B[38;5;124m'\u001B[39m\u001B[38;5;124mtaskonomy.json\u001B[39m\u001B[38;5;124m'\u001B[39m\n\u001B[1;32m     37\u001B[0m \u001B[38;5;28;01mwith\u001B[39;00m \u001B[38;5;28mopen\u001B[39m(json_file, \u001B[38;5;124m'\u001B[39m\u001B[38;5;124mr\u001B[39m\u001B[38;5;124m'\u001B[39m) \u001B[38;5;28;01mas\u001B[39;00m f:\n",
      "File \u001B[0;32m/usr/local/lib/python3.9/site-packages/numpy/lib/npyio.py:428\u001B[0m, in \u001B[0;36mload\u001B[0;34m(file, mmap_mode, allow_pickle, fix_imports, encoding)\u001B[0m\n\u001B[1;32m    426\u001B[0m     own_fid \u001B[38;5;241m=\u001B[39m \u001B[38;5;28;01mFalse\u001B[39;00m\n\u001B[1;32m    427\u001B[0m \u001B[38;5;28;01melse\u001B[39;00m:\n\u001B[0;32m--> 428\u001B[0m     fid \u001B[38;5;241m=\u001B[39m \u001B[38;5;28;43mopen\u001B[39;49m\u001B[43m(\u001B[49m\u001B[43mos_fspath\u001B[49m\u001B[43m(\u001B[49m\u001B[43mfile\u001B[49m\u001B[43m)\u001B[49m\u001B[43m,\u001B[49m\u001B[43m \u001B[49m\u001B[38;5;124;43m\"\u001B[39;49m\u001B[38;5;124;43mrb\u001B[39;49m\u001B[38;5;124;43m\"\u001B[39;49m\u001B[43m)\u001B[49m\n\u001B[1;32m    429\u001B[0m     own_fid \u001B[38;5;241m=\u001B[39m \u001B[38;5;28;01mTrue\u001B[39;00m\n\u001B[1;32m    431\u001B[0m \u001B[38;5;28;01mtry\u001B[39;00m:\n\u001B[1;32m    432\u001B[0m     \u001B[38;5;66;03m# Code to distinguish from NumPy binary files and pickles.\u001B[39;00m\n",
      "\u001B[0;31mFileNotFoundError\u001B[0m: [Errno 2] No such file or directory: 'datasets/Taskonomy/semseg_prior_factor.npy'"
     ]
    }
   ],
   "source": [
    "dataroot = 'datasets/Taskonomy/'\n",
    "\n",
    "headsDict = nn.ModuleDict()\n",
    "trainDataloaderDict = {}\n",
    "valDataloaderDict = {}\n",
    "criterionDict = {}\n",
    "metricDict = {}\n",
    "\n",
    "tasks = ['segment_semantic', 'normal', 'depth_zbuffer', 'keypoints2d', 'edge_texture']\n",
    "task_cls_num = {'segment_semantic': 17, 'normal': 3, 'depth_zbuffer': 1, 'keypoints2d': 1, 'edge_texture': 1}\n",
    "for task in tasks:\n",
    "    headsDict[task] = ASPPHeadNode(512, task_cls_num[task])\n",
    "\n",
    "    # For model trainer\n",
    "    dataset = Taskonomy(dataroot, 'train', task, crop_h=224, crop_w=224)\n",
    "    trainDataloaderDict[task] = DataLoader(dataset, batch_size=16, shuffle=True)\n",
    "\n",
    "    dataset = Taskonomy(dataroot, 'test_small', task, crop_h=224, crop_w=224)\n",
    "    valDataloaderDict[task] = DataLoader(dataset, batch_size=16, shuffle=True)\n",
    "\n",
    "    criterionDict[task] = TaskonomyCriterions(task, dataroot)\n",
    "    metricDict[task] = TaskonomyMetrics(task, dataroot)"
   ]
  },
  {
   "cell_type": "markdown",
   "metadata": {
    "pycharm": {
     "name": "#%% md\n"
    }
   },
   "source": [
    "# Model"
   ]
  },
  {
   "cell_type": "code",
   "execution_count": null,
   "metadata": {
    "pycharm": {
     "name": "#%%\n"
    }
   },
   "outputs": [],
   "source": [
    "prototxt = 'models/deeplab_resnet34_adashare.prototxt'\n",
    "# prototxt = 'models/mobilenetv2.prototxt' # the input dim of heads should be changed to 1280\n",
    "# prototxt = 'models/mnasnet.prototxt' # the input dim of heads should be changed to 1280\n",
    "mtlmodel = MTLModel(prototxt, headsDict)\n",
    "mtlmodel = mtlmodel.cuda()"
   ]
  },
  {
   "cell_type": "markdown",
   "metadata": {
    "pycharm": {
     "name": "#%% md\n"
    }
   },
   "source": [
    "# Train"
   ]
  },
  {
   "cell_type": "code",
   "execution_count": null,
   "metadata": {
    "pycharm": {
     "name": "#%%\n"
    }
   },
   "outputs": [],
   "source": [
    "checkpoint = 'checkpoint/'\n",
    "trainer = Trainer(mtlmodel, trainDataloaderDict, valDataloaderDict, criterionDict, metricDict, \n",
    "                  print_iters=100, val_iters=500, save_num=1, policy_update_iters=100)"
   ]
  },
  {
   "cell_type": "markdown",
   "metadata": {
    "pycharm": {
     "name": "#%% md\n"
    }
   },
   "source": [
    "### pre_train"
   ]
  },
  {
   "cell_type": "code",
   "execution_count": null,
   "metadata": {
    "pycharm": {
     "name": "#%%\n"
    }
   },
   "outputs": [],
   "source": [
    "trainer.pre_train(iters=10000, lr=0.0001, savePath=checkpoint+'Cityscapes/')"
   ]
  },
  {
   "cell_type": "markdown",
   "metadata": {
    "pycharm": {
     "name": "#%% md\n"
    }
   },
   "source": [
    "### alter_train"
   ]
  },
  {
   "cell_type": "code",
   "execution_count": null,
   "metadata": {
    "pycharm": {
     "name": "#%%\n"
    }
   },
   "outputs": [],
   "source": [
    "loss_lambda = {'segment_semantic': 1, 'depth_zbuffer': 1, 'policy':0.0005}\n",
    "trainer.alter_train_with_reg(iters=20000, policy_network_iters=(100,400), policy_lr=0.01, network_lr=0.0001, \n",
    "                             loss_lambda=loss_lambda,\n",
    "                             savePath=checkpoint+'Cityscapes/')"
   ]
  },
  {
   "cell_type": "markdown",
   "metadata": {
    "pycharm": {
     "name": "#%% md\n"
    }
   },
   "source": [
    "### sample policy from trained policy distribution and save"
   ]
  },
  {
   "cell_type": "code",
   "execution_count": null,
   "metadata": {
    "pycharm": {
     "name": "#%%\n"
    }
   },
   "outputs": [],
   "source": [
    "policy_list = {'segment_semantic': [], 'depth_zbuffer': []}\n",
    "name_list = {'segment_semantic': [], 'depth_zbuffer': []}"
   ]
  },
  {
   "cell_type": "code",
   "execution_count": null,
   "metadata": {
    "pycharm": {
     "name": "#%%\n"
    }
   },
   "outputs": [],
   "source": [
    "for name, param in mtlmodel.named_parameters():\n",
    "    if 'policy' in name and not torch.eq(param, torch.tensor([0., 0., 0.]).cuda()).all():\n",
    "        if 'segment_semantic' in name:\n",
    "            policy_list['segment_semantic'].append(param.data.cpu().detach().numpy())\n",
    "            name_list['segment_semantic'].append(name)\n",
    "        elif 'depth_zbuffer' in name:\n",
    "            policy_list['depth_zbuffer'].append(param.data.cpu().detach().numpy())\n",
    "            name_list['depth_zbuffer'].append(name)"
   ]
  },
  {
   "cell_type": "code",
   "execution_count": null,
   "metadata": {
    "pycharm": {
     "name": "#%%\n"
    }
   },
   "outputs": [],
   "source": [
    "sample_policy_dict = OrderedDict()\n",
    "for task in tasks:\n",
    "    for name, policy in zip(name_list[task], policy_list[task]):\n",
    "        distribution = softmax(policy, axis=-1)\n",
    "        distribution /= sum(distribution)\n",
    "        choice = np.random.choice((0,1,2), p=distribution)\n",
    "        if choice == 0:\n",
    "            sample_policy_dict[name] = torch.tensor([1.0,0.0,0.0]).cuda()\n",
    "        elif choice == 1:\n",
    "            sample_policy_dict[name] = torch.tensor([0.0,1.0,0.0]).cuda()\n",
    "        elif choice == 2:\n",
    "            sample_policy_dict[name] = torch.tensor([0.0,0.0,1.0]).cuda()"
   ]
  },
  {
   "cell_type": "code",
   "execution_count": null,
   "metadata": {
    "pycharm": {
     "name": "#%%\n"
    }
   },
   "outputs": [],
   "source": [
    "sample_path=\n",
    "sample_state = {'state_dict': sample_policy_dict}\n",
    "torch.save(sample_state, sample_path + 'sample_policy.model')"
   ]
  },
  {
   "cell_type": "markdown",
   "metadata": {
    "pycharm": {
     "name": "#%% md\n"
    }
   },
   "source": [
    "### post train from scratch"
   ]
  },
  {
   "cell_type": "code",
   "execution_count": null,
   "metadata": {
    "pycharm": {
     "name": "#%%\n"
    }
   },
   "outputs": [],
   "source": [
    "loss_lambda = {'segment_semantic': 1, 'depth_zbuffer': 1}\n",
    "trainer.post_train(iters=40000, lr=0.001, \n",
    "                   decay_lr_freq=4000, decay_lr_rate=0.5,\n",
    "                   loss_lambda=loss_lambda,\n",
    "                   savePath=checkpoint+'Cityscapes/', reload='sample_policy.model')"
   ]
  },
  {
   "cell_type": "markdown",
   "metadata": {
    "pycharm": {
     "name": "#%% md\n"
    }
   },
   "source": [
    "### get the validation results in the paper "
   ]
  },
  {
   "cell_type": "code",
   "execution_count": null,
   "metadata": {
    "pycharm": {
     "name": "#%%\n"
    }
   },
   "outputs": [],
   "source": [
    "mtlmodel.load_state_dict(torch.load('CityScapes.model'))\n",
    "trainer.validate('mtl', hard=True) "
   ]
  },
  {
   "cell_type": "markdown",
   "metadata": {
    "pycharm": {
     "name": "#%% md\n"
    }
   },
   "source": [
    "# Inference"
   ]
  },
  {
   "cell_type": "code",
   "execution_count": null,
   "metadata": {
    "pycharm": {
     "name": "#%%\n"
    }
   },
   "outputs": [],
   "source": [
    "mtlmodel.load_state_dict(torch.load('CityScapes.model'))\n",
    "output = mtlmodel(x, task='segment_semantic', hard=True)"
   ]
  }
 ],
 "metadata": {
  "kernelspec": {
   "display_name": "Python 3",
   "language": "python",
   "name": "python3"
  },
  "language_info": {
   "codemirror_mode": {
    "name": "ipython",
    "version": 3
   },
   "file_extension": ".py",
   "mimetype": "text/x-python",
   "name": "python",
   "nbconvert_exporter": "python",
   "pygments_lexer": "ipython3",
   "version": "3.6.12"
  }
 },
 "nbformat": 4,
 "nbformat_minor": 4
}