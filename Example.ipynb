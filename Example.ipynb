{
 "cells": [
  {
   "cell_type": "code",
   "execution_count": 2,
   "metadata": {
    "pycharm": {
     "name": "#%%\n"
    }
   },
   "outputs": [],
   "source": [
    "import numpy as np\n",
    "import os\n",
    "import warnings\n",
    "warnings.simplefilter(action='ignore', category=FutureWarning)\n",
    "import matplotlib.pyplot as plt\n",
    "from mtl_pytorch import layer_node\n",
    "import torch\n",
    "import torch.nn as nn\n",
    "import torch.nn.functional as F\n",
    "from torch.utils.data import DataLoader\n",
    "from torch.utils.tensorboard import SummaryWriter\n",
    "\n",
    "from framework.mtl_model import MTLModel\n",
    "from framework.trainer import Trainer\n",
    "from data.heads.pixel2pixel import ASPPHeadNode\n",
    "\n",
    "from data.dataloader.cityscapes_dataloader import CityScapes\n",
    "from data.metrics.pixel2pixel_loss import CityScapesCriterions\n",
    "from data.metrics.pixel2pixel_metrics import CityScapesMetrics\n",
    "\n",
    "from data.dataloader.nyuv2_dataloader import NYU_v2\n",
    "from data.metrics.pixel2pixel_loss import NYUCriterions\n",
    "from data.metrics.pixel2pixel_metrics import NYUMetrics\n",
    "\n",
    "from data.dataloader.taskonomy_dataloader import Taskonomy\n",
    "from data.metrics.pixel2pixel_loss import TaskonomyCriterions\n",
    "from data.metrics.pixel2pixel_metrics import TaskonomyMetrics"
   ]
  },
  {
   "cell_type": "markdown",
   "metadata": {
    "pycharm": {
     "name": "#%% md\n"
    }
   },
   "source": [
    "# Data"
   ]
  },
  {
   "cell_type": "code",
   "execution_count": null,
   "metadata": {
    "pycharm": {
     "name": "#%%\n",
     "is_executing": true
    }
   },
   "outputs": [],
   "source": [
    "dataroot = 'datasets/Cityscapes/'\n",
    "headsDict = nn.ModuleDict()\n",
    "trainDataloaderDict = {}\n",
    "valDataloaderDict = {}\n",
    "criterionDict = {}\n",
    "metricDict = {}\n",
    "\n",
    "tasks = ['segment_semantic', 'depth_zbuffer']\n",
    "task_cls_num = {'segment_semantic': 19, 'depth_zbuffer': 1}\n",
    "for task in tasks:\n",
    "    headsDict[task] = ASPPHeadNode(512, task_cls_num[task])\n",
    "\n",
    "    # For model trainer\n",
    "    dataset = CityScapes(dataroot, 'train', task, crop_h=224, crop_w=224)\n",
    "    trainDataloaderDict[task] = DataLoader(dataset, 16, shuffle=True)\n",
    "\n",
    "    dataset = CityScapes(dataroot, 'test', task)\n",
    "    valDataloaderDict[task] = DataLoader(dataset, 16, shuffle=True)\n",
    "\n",
    "    criterionDict[task] = CityScapesCriterions(task)\n",
    "    metricDict[task] = CityScapesMetrics(task)"
   ]
  },
  {
   "cell_type": "code",
   "execution_count": null,
   "metadata": {
    "pycharm": {
     "name": "#%%\n",
     "is_executing": true
    }
   },
   "outputs": [],
   "source": [
    "dataroot = 'datasets/NYUv2/'\n",
    "\n",
    "headsDict = nn.ModuleDict()\n",
    "trainDataloaderDict = {}\n",
    "valDataloaderDict = {}\n",
    "criterionDict = {}\n",
    "metricDict = {}\n",
    "\n",
    "tasks = ['segment_semantic', 'normal', 'depth_zbuffer']\n",
    "task_cls_num = {'segment_semantic': 40, 'normal':3, 'depth_zbuffer': 1}\n",
    "for task in tasks:\n",
    "    headsDict[task] = ASPPHeadNode(512, task_cls_num[task])\n",
    "\n",
    "    # For model trainer\n",
    "    dataset = NYU_v2(dataroot, 'train', task, crop_h=321, crop_w=321)\n",
    "    trainDataloaderDict[task] = DataLoader(dataset, 16, shuffle=True)\n",
    "\n",
    "    dataset = NYU_v2(dataroot, 'test', task, crop_h=321, crop_w=321)\n",
    "    valDataloaderDict[task] = DataLoader(dataset, 16, shuffle=True)\n",
    "\n",
    "    criterionDict[task] = NYUCriterions(task)\n",
    "    metricDict[task] = NYUMetrics(task)"
   ]
  },
  {
   "cell_type": "code",
   "execution_count": null,
   "metadata": {
    "pycharm": {
     "name": "#%%\n",
     "is_executing": true
    }
   },
   "outputs": [],
   "source": [
    "dataroot = 'datasets/Taskonomy/'\n",
    "\n",
    "headsDict = nn.ModuleDict()\n",
    "trainDataloaderDict = {}\n",
    "valDataloaderDict = {}\n",
    "criterionDict = {}\n",
    "metricDict = {}\n",
    "\n",
    "tasks = ['segment_semantic', 'normal', 'depth_zbuffer', 'keypoints2d', 'edge_texture']\n",
    "task_cls_num = {'segment_semantic': 17, 'normal': 3, 'depth_zbuffer': 1, 'keypoints2d': 1, 'edge_texture': 1}\n",
    "for task in tasks:\n",
    "    headsDict[task] = ASPPHeadNode(512, task_cls_num[task])\n",
    "\n",
    "    # For model trainer\n",
    "    dataset = Taskonomy(dataroot, 'train', task, crop_h=224, crop_w=224)\n",
    "    trainDataloaderDict[task] = DataLoader(dataset, batch_size=16, shuffle=True)\n",
    "\n",
    "    dataset = Taskonomy(dataroot, 'test_small', task, crop_h=224, crop_w=224)\n",
    "    valDataloaderDict[task] = DataLoader(dataset, batch_size=16, shuffle=True)\n",
    "\n",
    "    criterionDict[task] = TaskonomyCriterions(task, dataroot)\n",
    "    metricDict[task] = TaskonomyMetrics(task, dataroot)"
   ]
  },
  {
   "cell_type": "markdown",
   "metadata": {
    "pycharm": {
     "name": "#%% md\n"
    }
   },
   "source": [
    "# Model"
   ]
  },
  {
   "cell_type": "code",
   "execution_count": null,
   "metadata": {
    "pycharm": {
     "name": "#%%\n"
    }
   },
   "outputs": [],
   "source": [
    "prototxt = 'models/deeplab_resnet34_adashare.prototxt'\n",
    "# prototxt = 'models/mobilenetv2.prototxt' # the input dim of heads should be changed to 1280\n",
    "# prototxt = 'models/mnasnet.prototxt' # the input dim of heads should be changed to 1280\n",
    "mtlmodel = MTLModel(prototxt, headsDict)\n",
    "mtlmodel = mtlmodel.cuda()"
   ]
  },
  {
   "cell_type": "markdown",
   "metadata": {
    "pycharm": {
     "name": "#%% md\n"
    }
   },
   "source": [
    "# Train"
   ]
  },
  {
   "cell_type": "code",
   "execution_count": null,
   "metadata": {
    "pycharm": {
     "name": "#%%\n"
    }
   },
   "outputs": [],
   "source": [
    "checkpoint = 'checkpoint/'\n",
    "trainer = Trainer(mtlmodel, trainDataloaderDict, valDataloaderDict, criterionDict, metricDict, \n",
    "                  print_iters=100, val_iters=500, save_num=1, policy_update_iters=100)"
   ]
  },
  {
   "cell_type": "markdown",
   "metadata": {
    "pycharm": {
     "name": "#%% md\n"
    }
   },
   "source": [
    "### pre_train"
   ]
  },
  {
   "cell_type": "code",
   "execution_count": null,
   "metadata": {
    "pycharm": {
     "name": "#%%\n"
    }
   },
   "outputs": [],
   "source": [
    "trainer.pre_train(iters=10000, lr=0.0001, savePath=checkpoint+'Cityscapes/')"
   ]
  },
  {
   "cell_type": "markdown",
   "metadata": {
    "pycharm": {
     "name": "#%% md\n"
    }
   },
   "source": [
    "### alter_train"
   ]
  },
  {
   "cell_type": "code",
   "execution_count": null,
   "metadata": {
    "pycharm": {
     "name": "#%%\n"
    }
   },
   "outputs": [],
   "source": [
    "loss_lambda = {'segment_semantic': 1, 'depth_zbuffer': 1, 'policy':0.0005}\n",
    "trainer.alter_train_with_reg(iters=20000, policy_network_iters=(100,400), policy_lr=0.01, network_lr=0.0001, \n",
    "                             loss_lambda=loss_lambda,\n",
    "                             savePath=checkpoint+'Cityscapes/')"
   ]
  },
  {
   "cell_type": "markdown",
   "metadata": {
    "pycharm": {
     "name": "#%% md\n"
    }
   },
   "source": [
    "### sample policy from trained policy distribution and save"
   ]
  },
  {
   "cell_type": "code",
   "execution_count": null,
   "metadata": {
    "pycharm": {
     "name": "#%%\n"
    }
   },
   "outputs": [],
   "source": [
    "policy_list = {'segment_semantic': [], 'depth_zbuffer': []}\n",
    "name_list = {'segment_semantic': [], 'depth_zbuffer': []}"
   ]
  },
  {
   "cell_type": "code",
   "execution_count": null,
   "metadata": {
    "pycharm": {
     "name": "#%%\n"
    }
   },
   "outputs": [],
   "source": [
    "for name, param in mtlmodel.named_parameters():\n",
    "    if 'policy' in name and not torch.eq(param, torch.tensor([0., 0., 0.]).cuda()).all():\n",
    "        if 'segment_semantic' in name:\n",
    "            policy_list['segment_semantic'].append(param.data.cpu().detach().numpy())\n",
    "            name_list['segment_semantic'].append(name)\n",
    "        elif 'depth_zbuffer' in name:\n",
    "            policy_list['depth_zbuffer'].append(param.data.cpu().detach().numpy())\n",
    "            name_list['depth_zbuffer'].append(name)"
   ]
  },
  {
   "cell_type": "code",
   "execution_count": null,
   "metadata": {
    "pycharm": {
     "name": "#%%\n"
    }
   },
   "outputs": [],
   "source": [
    "sample_policy_dict = OrderedDict()\n",
    "for task in tasks:\n",
    "    for name, policy in zip(name_list[task], policy_list[task]):\n",
    "        distribution = softmax(policy, axis=-1)\n",
    "        distribution /= sum(distribution)\n",
    "        choice = np.random.choice((0,1,2), p=distribution)\n",
    "        if choice == 0:\n",
    "            sample_policy_dict[name] = torch.tensor([1.0,0.0,0.0]).cuda()\n",
    "        elif choice == 1:\n",
    "            sample_policy_dict[name] = torch.tensor([0.0,1.0,0.0]).cuda()\n",
    "        elif choice == 2:\n",
    "            sample_policy_dict[name] = torch.tensor([0.0,0.0,1.0]).cuda()"
   ]
  },
  {
   "cell_type": "code",
   "execution_count": null,
   "metadata": {
    "pycharm": {
     "name": "#%%\n"
    }
   },
   "outputs": [],
   "source": [
    "sample_state = {'state_dict': sample_policy_dict}\n",
    "torch.save(sample_state, sample_path + 'sample_policy.model')"
   ]
  },
  {
   "cell_type": "markdown",
   "metadata": {
    "pycharm": {
     "name": "#%% md\n"
    }
   },
   "source": [
    "### post train from scratch"
   ]
  },
  {
   "cell_type": "code",
   "execution_count": null,
   "metadata": {
    "pycharm": {
     "name": "#%%\n"
    }
   },
   "outputs": [],
   "source": [
    "loss_lambda = {'segment_semantic': 1, 'depth_zbuffer': 1}\n",
    "trainer.post_train(iters=40000, lr=0.001, \n",
    "                   decay_lr_freq=4000, decay_lr_rate=0.5,\n",
    "                   loss_lambda=loss_lambda,\n",
    "                   savePath=checkpoint+'Cityscapes/', reload='sample_policy.model')"
   ]
  },
  {
   "cell_type": "markdown",
   "metadata": {
    "pycharm": {
     "name": "#%% md\n"
    }
   },
   "source": [
    "### get the validation results in the paper "
   ]
  },
  {
   "cell_type": "code",
   "execution_count": null,
   "metadata": {
    "pycharm": {
     "name": "#%%\n"
    }
   },
   "outputs": [],
   "source": [
    "mtlmodel.load_state_dict(torch.load('CityScapes.model'))\n",
    "trainer.validate('mtl', hard=True) "
   ]
  },
  {
   "cell_type": "markdown",
   "metadata": {
    "pycharm": {
     "name": "#%% md\n"
    }
   },
   "source": [
    "# Inference"
   ]
  },
  {
   "cell_type": "code",
   "execution_count": null,
   "metadata": {
    "pycharm": {
     "name": "#%%\n"
    }
   },
   "outputs": [],
   "source": [
    "mtlmodel.load_state_dict(torch.load('CityScapes.model'))\n",
    "output = mtlmodel(x, task='segment_semantic', hard=True)"
   ]
  }
 ],
 "metadata": {
  "kernelspec": {
   "display_name": "Python 3",
   "language": "python",
   "name": "python3"
  },
  "language_info": {
   "codemirror_mode": {
    "name": "ipython",
    "version": 3
   },
   "file_extension": ".py",
   "mimetype": "text/x-python",
   "name": "python",
   "nbconvert_exporter": "python",
   "pygments_lexer": "ipython3",
   "version": "3.6.12"
  }
 },
 "nbformat": 4,
 "nbformat_minor": 4
}