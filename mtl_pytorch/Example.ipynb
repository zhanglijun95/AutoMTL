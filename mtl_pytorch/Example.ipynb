{
 "cells": [
  {
   "cell_type": "code",
   "execution_count": 11,
   "outputs": [],
   "source": [
    "import torch\n",
    "import torch.nn as nn\n",
    "from mtl_pytorch import layer_node\n",
    "import numpy as np\n",
    "from framework import trainer\n",
    "from torch import optim"
   ],
   "metadata": {
    "collapsed": false,
    "pycharm": {
     "name": "#%%\n"
    }
   }
  },
  {
   "cell_type": "markdown",
   "source": [
    "# define a model"
   ],
   "metadata": {
    "collapsed": false,
    "pycharm": {
     "name": "#%% md\n"
    }
   }
  },
  {
   "cell_type": "code",
   "execution_count": 12,
   "outputs": [],
   "source": [
    "# build model\n",
    "class MTL_network(nn.Module):\n",
    "    def __init__(self):\n",
    "        super(MTL_network, self).__init__()\n",
    "        self.convNode = layer_node.Conv2Node(\n",
    "            in_channels=1, out_channels=128, kernel_size=3,\n",
    "            taskList=['segment_sementic'])\n",
    "\n",
    "    def forward(self, x, stage='common', task=None, tau=5, hard=False):\n",
    "        x = self.convNode(x, stage, task, tau, hard)\n",
    "        x = x.view(-1, 256)\n",
    "        x = nn.Linear(256, 1)(x)\n",
    "        return x"
   ],
   "metadata": {
    "collapsed": false,
    "pycharm": {
     "name": "#%%\n"
    }
   }
  },
  {
   "cell_type": "markdown",
   "source": [
    "# Basic output"
   ],
   "metadata": {
    "collapsed": false
   }
  },
  {
   "cell_type": "code",
   "source": [
    "# give a basic input and output\n",
    "model = MTL_network()\n",
    "inp = np.array([[[[1, 2, 3, 4],\n",
    "                  [1, 2, 3, 4],\n",
    "                  [1, 2, 3, 4]]]])\n",
    "x = torch.tensor(inp, dtype=torch.float)\n",
    "\n",
    "print(model(x))"
   ],
   "metadata": {
    "collapsed": false,
    "pycharm": {
     "name": "#%%\n"
    }
   },
   "execution_count": 13,
   "outputs": [
    {
     "name": "stdout",
     "output_type": "stream",
     "text": [
      "tensor([[-0.0250]], grad_fn=<AddmmBackward0>)\n"
     ]
    }
   ]
  },
  {
   "cell_type": "markdown",
   "source": [
    "# Train"
   ],
   "metadata": {
    "collapsed": false
   }
  },
  {
   "cell_type": "code",
   "execution_count": 14,
   "outputs": [],
   "source": [
    "trainer = trainer.Trainer(\n",
    "    model, train_dataloader_dict={}, val_dataloader_dict={},\n",
    "    criterion_dict={}, metric_dict={}, print_iters={},\n",
    "    val_iters=500,save_num=1, policy_update_iters=100)"
   ],
   "metadata": {
    "collapsed": false,
    "pycharm": {
     "name": "#%%\n"
    }
   }
  },
  {
   "cell_type": "code",
   "execution_count": 14,
   "outputs": [],
   "source": [
    "trainer.train_step('common', optimizer=optim.Adam)"
   ],
   "metadata": {
    "collapsed": false,
    "pycharm": {
     "name": "#%%\n"
    }
   }
  }
 ],
 "metadata": {
  "kernelspec": {
   "display_name": "Python 3",
   "language": "python",
   "name": "python3"
  },
  "language_info": {
   "codemirror_mode": {
    "name": "ipython",
    "version": 2
   },
   "file_extension": ".py",
   "mimetype": "text/x-python",
   "name": "python",
   "nbconvert_exporter": "python",
   "pygments_lexer": "ipython2",
   "version": "2.7.6"
  }
 },
 "nbformat": 4,
 "nbformat_minor": 0
}