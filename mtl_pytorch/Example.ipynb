{
 "cells": [
  {
   "cell_type": "code",
   "execution_count": 1,
   "outputs": [],
   "source": [
    "import torch\n",
    "import torch.nn as nn\n",
    "from mtl_pytorch import layer_node, mtl_model, mobilenetv2\n",
    "import numpy as np\n",
    "from framework.trainer import Trainer\n",
    "from torch import optim\n",
    "\n",
    "import numpy as np\n",
    "import os\n",
    "import warnings\n",
    "warnings.simplefilter(action='ignore', category=FutureWarning)\n",
    "import matplotlib.pyplot as plt\n",
    "\n",
    "import torch\n",
    "import torch.nn as nn\n",
    "import torch.nn.functional as F\n",
    "from torch.utils.data import DataLoader\n",
    "from torch.utils.tensorboard import SummaryWriter\n",
    "\n",
    "from data.heads.pixel2pixel import ASPPHeadNode\n",
    "\n",
    "from data.dataloader.cityscapes_dataloader import CityScapes\n",
    "from data.metrics.pixel2pixel_loss import CityScapesCriterions\n",
    "from data.metrics.pixel2pixel_metrics import CityScapesMetrics"
   ],
   "metadata": {
    "collapsed": false,
    "pycharm": {
     "name": "#%%\n"
    }
   }
  },
  {
   "cell_type": "markdown",
   "source": [
    "# define a model"
   ],
   "metadata": {
    "collapsed": false,
    "pycharm": {
     "name": "#%% md\n"
    }
   }
  },
  {
   "cell_type": "code",
   "execution_count": 9,
   "outputs": [],
   "source": [
    "# build model\n",
    "class MTL_network(nn.Module):\n",
    "    def __init__(self):\n",
    "        super(MTL_network, self).__init__()\n",
    "        self.convNode = layer_node.Conv2dNode(\n",
    "            in_channels=1, out_channels=128, kernel_size=3,\n",
    "            taskList=['segment_sementic'])\n",
    "\n",
    "    def forward(self, x, stage='common', task=None, tau=5, hard=False):\n",
    "        x = self.convNode(x, stage, task, tau, hard)\n",
    "        x = x.view(-1, 256)\n",
    "        x = nn.Linear(256, 1)(x)\n",
    "        return x"
   ],
   "metadata": {
    "collapsed": false,
    "pycharm": {
     "name": "#%%\n"
    }
   }
  },
  {
   "cell_type": "markdown",
   "source": [
    "# Basic output"
   ],
   "metadata": {
    "collapsed": false
   }
  },
  {
   "cell_type": "code",
   "source": [
    "from copy import deepcopy\n",
    "# give a basic input and output\n",
    "model = MTL_network()\n",
    "inp = np.array([[[[1, 2, 3, 4],\n",
    "                  [1, 2, 3, 4],\n",
    "                  [1, 2, 3, 4]]]])\n",
    "print(inp.shape)\n",
    "x = torch.tensor(inp, dtype=torch.float)\n",
    "print(model(x))\n",
    "for name, module in deepcopy(model).named_modules():\n",
    "    model.__setattr__(name, nn.Module())\n",
    "\n",
    "for module in model.modules():\n",
    "    print(module)"
   ],
   "metadata": {
    "collapsed": false,
    "pycharm": {
     "name": "#%%\n"
    }
   },
   "execution_count": 17,
   "outputs": [
    {
     "name": "stdout",
     "output_type": "stream",
     "text": [
      "(1, 1, 3, 4)\n",
      "tensor([[-0.0284]], grad_fn=<AddmmBackward0>)\n",
      "MTL_network(\n",
      "  (convNode): Module()\n",
      "  (): Module()\n",
      "  (convNode.taskOp): Module()\n",
      "  (convNode.basicOp): Module()\n",
      "  (convNode.policy): Module()\n",
      "  (convNode.dsOp): Module()\n",
      ")\n",
      "Module()\n",
      "Module()\n",
      "Module()\n",
      "Module()\n",
      "Module()\n",
      "Module()\n"
     ]
    }
   ]
  },
  {
   "cell_type": "markdown",
   "source": [
    "# Prepare for training"
   ],
   "metadata": {
    "collapsed": false
   }
  },
  {
   "cell_type": "code",
   "execution_count": 4,
   "outputs": [],
   "source": [
    "tasks = ['segment_semantic', 'normla', 'depth_zbuffer']"
   ],
   "metadata": {
    "collapsed": false,
    "pycharm": {
     "name": "#%%\n"
    }
   }
  },
  {
   "cell_type": "markdown",
   "source": [
    "# Train"
   ],
   "metadata": {
    "collapsed": false
   }
  },
  {
   "cell_type": "code",
   "execution_count": 5,
   "outputs": [],
   "source": [
    "checkpoint = 'checkpoint/'\n",
    "trainer = Trainer(\n",
    "    model, train_dataloader_dict={}, val_dataloader_dict={},\n",
    "    criterion_dict={}, metric_dict={}, print_iters=10,\n",
    "    val_iters=10,save_num=1, policy_update_iters=10)"
   ],
   "metadata": {
    "collapsed": false,
    "pycharm": {
     "name": "#%%\n"
    }
   }
  },
  {
   "cell_type": "markdown",
   "source": [
    "## pre_train"
   ],
   "metadata": {
    "collapsed": false
   }
  },
  {
   "cell_type": "code",
   "execution_count": 6,
   "outputs": [
    {
     "ename": "ZeroDivisionError",
     "evalue": "division by zero",
     "output_type": "error",
     "traceback": [
      "\u001B[0;31m---------------------------------------------------------------------------\u001B[0m",
      "\u001B[0;31mZeroDivisionError\u001B[0m                         Traceback (most recent call last)",
      "Input \u001B[0;32mIn [6]\u001B[0m, in \u001B[0;36m<module>\u001B[0;34m\u001B[0m\n\u001B[0;32m----> 1\u001B[0m \u001B[43mtrainer\u001B[49m\u001B[38;5;241;43m.\u001B[39;49m\u001B[43mpre_train\u001B[49m\u001B[43m(\u001B[49m\u001B[43miters\u001B[49m\u001B[38;5;241;43m=\u001B[39;49m\u001B[38;5;241;43m10\u001B[39;49m\u001B[43m,\u001B[49m\u001B[43m \u001B[49m\u001B[43mlr\u001B[49m\u001B[38;5;241;43m=\u001B[39;49m\u001B[38;5;241;43m0.0001\u001B[39;49m\u001B[43m,\u001B[49m\n\u001B[1;32m      2\u001B[0m \u001B[43m           \u001B[49m\u001B[43msavePath\u001B[49m\u001B[38;5;241;43m=\u001B[39;49m\u001B[43mcheckpoint\u001B[49m\u001B[38;5;241;43m+\u001B[39;49m\u001B[38;5;124;43m'\u001B[39;49m\u001B[38;5;124;43mmtl_pytorch/\u001B[39;49m\u001B[38;5;124;43m'\u001B[39;49m\u001B[43m)\u001B[49m\n",
      "File \u001B[0;32m~/Mine/Academic/research/AutoMTL/framework/trainer.py:56\u001B[0m, in \u001B[0;36mTrainer.pre_train\u001B[0;34m(self, iters, lr, task_iters, writerPath, savePath, reload)\u001B[0m\n\u001B[1;32m     53\u001B[0m     \u001B[38;5;28mself\u001B[39m\u001B[38;5;241m.\u001B[39mtrain_step_task(\u001B[38;5;124m'\u001B[39m\u001B[38;5;124mpre_train_all\u001B[39m\u001B[38;5;124m'\u001B[39m, \u001B[38;5;28mself\u001B[39m\u001B[38;5;241m.\u001B[39mtasks[task_idx], optimizer)\n\u001B[1;32m     55\u001B[0m \u001B[38;5;28;01mif\u001B[39;00m (i\u001B[38;5;241m+\u001B[39m\u001B[38;5;241m1\u001B[39m) \u001B[38;5;241m%\u001B[39m \u001B[38;5;28mself\u001B[39m\u001B[38;5;241m.\u001B[39mprint_iters \u001B[38;5;241m==\u001B[39m \u001B[38;5;241m0\u001B[39m:\n\u001B[0;32m---> 56\u001B[0m     \u001B[38;5;28;43mself\u001B[39;49m\u001B[38;5;241;43m.\u001B[39;49m\u001B[43mprint_train_loss\u001B[49m\u001B[43m(\u001B[49m\u001B[43mi\u001B[49m\u001B[43m,\u001B[49m\u001B[43m \u001B[49m\u001B[43mwriter\u001B[49m\u001B[43m)\u001B[49m\n\u001B[1;32m     57\u001B[0m     \u001B[38;5;28mself\u001B[39m\u001B[38;5;241m.\u001B[39mreset_train_loss()\n\u001B[1;32m     58\u001B[0m \u001B[38;5;28;01mif\u001B[39;00m (i\u001B[38;5;241m+\u001B[39m\u001B[38;5;241m1\u001B[39m) \u001B[38;5;241m%\u001B[39m \u001B[38;5;28mself\u001B[39m\u001B[38;5;241m.\u001B[39mval_iters \u001B[38;5;241m==\u001B[39m \u001B[38;5;241m0\u001B[39m:\n",
      "File \u001B[0;32m~/Mine/Academic/research/AutoMTL/framework/trainer.py:455\u001B[0m, in \u001B[0;36mTrainer.print_train_loss\u001B[0;34m(self, it, writer)\u001B[0m\n\u001B[1;32m    453\u001B[0m         writer\u001B[38;5;241m.\u001B[39madd_scalar(\u001B[38;5;124m'\u001B[39m\u001B[38;5;124mLoss/train/\u001B[39m\u001B[38;5;124m'\u001B[39m \u001B[38;5;241m+\u001B[39m task, avg_loss, it)\n\u001B[1;32m    454\u001B[0m     \u001B[38;5;28mprint\u001B[39m(\u001B[38;5;124m'\u001B[39m\u001B[38;5;124m[Iter \u001B[39m\u001B[38;5;132;01m{}\u001B[39;00m\u001B[38;5;124m Task \u001B[39m\u001B[38;5;132;01m{}\u001B[39;00m\u001B[38;5;124m] Train Loss: \u001B[39m\u001B[38;5;132;01m{:.4f}\u001B[39;00m\u001B[38;5;124m'\u001B[39m\u001B[38;5;241m.\u001B[39mformat((it\u001B[38;5;241m+\u001B[39m\u001B[38;5;241m1\u001B[39m), task[:\u001B[38;5;241m4\u001B[39m], avg_loss), flush\u001B[38;5;241m=\u001B[39m\u001B[38;5;28;01mTrue\u001B[39;00m)\n\u001B[0;32m--> 455\u001B[0m \u001B[38;5;28mprint\u001B[39m(\u001B[38;5;124m'\u001B[39m\u001B[38;5;124m[Iter \u001B[39m\u001B[38;5;132;01m{}\u001B[39;00m\u001B[38;5;124m Total] Train Loss: \u001B[39m\u001B[38;5;132;01m{:.4f}\u001B[39;00m\u001B[38;5;124m'\u001B[39m\u001B[38;5;241m.\u001B[39mformat((it\u001B[38;5;241m+\u001B[39m\u001B[38;5;241m1\u001B[39m), \u001B[43mtotal_loss\u001B[49m\u001B[38;5;241;43m/\u001B[39;49m\u001B[43mtask_num\u001B[49m), flush\u001B[38;5;241m=\u001B[39m\u001B[38;5;28;01mTrue\u001B[39;00m)\n\u001B[1;32m    456\u001B[0m \u001B[38;5;28mprint\u001B[39m(\u001B[38;5;124m'\u001B[39m\u001B[38;5;124m======================================================================\u001B[39m\u001B[38;5;124m'\u001B[39m, flush\u001B[38;5;241m=\u001B[39m\u001B[38;5;28;01mTrue\u001B[39;00m)\n\u001B[1;32m    457\u001B[0m \u001B[38;5;28;01mreturn\u001B[39;00m\n",
      "\u001B[0;31mZeroDivisionError\u001B[0m: division by zero"
     ]
    }
   ],
   "source": [
    "trainer.pre_train(iters=10, lr=0.0001,\n",
    "           savePath=checkpoint+'mtl_pytorch/')"
   ],
   "metadata": {
    "collapsed": false,
    "pycharm": {
     "name": "#%%\n"
    }
   }
  },
  {
   "cell_type": "markdown",
   "source": [
    "## alter_train"
   ],
   "metadata": {
    "collapsed": false
   }
  },
  {
   "cell_type": "code",
   "execution_count": null,
   "outputs": [],
   "source": [],
   "metadata": {
    "collapsed": false,
    "pycharm": {
     "name": "#%%\n"
    }
   }
  }
 ],
 "metadata": {
  "kernelspec": {
   "display_name": "Python 3",
   "language": "python",
   "name": "python3"
  },
  "language_info": {
   "codemirror_mode": {
    "name": "ipython",
    "version": 2
   },
   "file_extension": ".py",
   "mimetype": "text/x-python",
   "name": "python",
   "nbconvert_exporter": "python",
   "pygments_lexer": "ipython2",
   "version": "2.7.6"
  }
 },
 "nbformat": 4,
 "nbformat_minor": 0
}