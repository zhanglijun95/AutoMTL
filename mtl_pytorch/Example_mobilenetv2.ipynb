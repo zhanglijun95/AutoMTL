{
 "cells": [
  {
   "cell_type": "code",
   "execution_count": 1,
   "metadata": {},
   "outputs": [],
   "source": [
    "%load_ext autoreload\n",
    "%autoreload 2\n",
    "import numpy as np\n",
    "import os\n",
    "import warnings\n",
    "warnings.simplefilter(action='ignore', category=FutureWarning)\n",
    "import matplotlib.pyplot as plt\n",
    "\n",
    "import torch\n",
    "import torch.nn as nn\n",
    "import torch.nn.functional as F\n",
    "from torch.utils.data import DataLoader\n",
    "from torch.utils.tensorboard import SummaryWriter\n",
    "from mtl_pytorch.layer_node import Conv2dNode, BN2dNode\n",
    "\n",
    "from mtl_model import mtl_model\n",
    "from mtl_pytorch.trainer import Trainer\n",
    "from data.heads.pixel2pixel import ASPPHeadNode\n",
    "\n",
    "from data.dataloader.cityscapes_dataloader import CityScapes\n",
    "from data.metrics.pixel2pixel_loss import CityScapesCriterions\n",
    "from data.metrics.pixel2pixel_metrics import CityScapesMetrics\n",
    "\n",
    "from mobilenetv2 import mobilenet_v2\n",
    "\n",
    "from data.dataloader.nyuv2_dataloader import NYU_v2\n",
    "from data.metrics.pixel2pixel_loss import NYUCriterions\n",
    "from data.metrics.pixel2pixel_metrics import NYUMetrics\n",
    "\n",
    "from data.dataloader.taskonomy_dataloader import Taskonomy\n",
    "from data.metrics.pixel2pixel_loss import TaskonomyCriterions\n",
    "from data.metrics.pixel2pixel_metrics import TaskonomyMetrics"
   ]
  },
  {
   "cell_type": "markdown",
   "metadata": {},
   "source": [
    "# Data"
   ]
  },
  {
   "cell_type": "code",
   "execution_count": 2,
   "metadata": {},
   "outputs": [],
   "source": [
    "dataroot = 'datasets/Cityscapes/'\n",
    "\n",
    "headsDict = nn.ModuleDict()\n",
    "trainDataloaderDict = {}\n",
    "valDataloaderDict = {}\n",
    "criterionDict = {}\n",
    "metricDict = {}\n",
    "\n",
    "tasks = ['segment_semantic', 'depth_zbuffer']\n",
    "task_cls_num = {'segment_semantic': 19, 'depth_zbuffer': 1}\n",
    "for task in tasks:\n",
    "    headsDict[task] = ASPPHeadNode(512, task_cls_num[task])\n",
    "\n",
    "    # For model trainer\n",
    "    dataset = CityScapes(dataroot, 'train', task, crop_h=224, crop_w=224)\n",
    "    trainDataloaderDict[task] = DataLoader(dataset, 16, shuffle=True)\n",
    "\n",
    "    dataset = CityScapes(dataroot, 'test', task)\n",
    "    valDataloaderDict[task] = DataLoader(dataset, 16, shuffle=True)\n",
    "\n",
    "    criterionDict[task] = CityScapesCriterions(task)\n",
    "    metricDict[task] = CityScapesMetrics(task)"
   ]
  },
  {
   "cell_type": "markdown",
   "metadata": {},
   "source": [
    "# Model"
   ]
  },
  {
   "cell_type": "code",
   "execution_count": 33,
   "metadata": {},
   "outputs": [],
   "source": [
    "mtlmodel = mtl_model().embed_nas(model=mobilenet_v2(False), taskList=headsDict.keys())"
   ]
  },
  {
   "cell_type": "code",
   "execution_count": 34,
   "outputs": [
    {
     "name": "stdout",
     "output_type": "stream",
     "text": [
      "tensor([[ 0.0481,  0.1495,  0.1648,  ...,  0.4224, -0.5413,  0.0075],\n",
      "        [ 0.0096,  0.2051,  0.0473,  ..., -0.2082, -0.0544, -0.5981],\n",
      "        [ 0.3163, -0.1086,  0.7067,  ..., -0.0058, -0.4220, -0.1653]],\n",
      "       grad_fn=<AddmmBackward0>)\n"
     ]
    }
   ],
   "source": [
    "x = np.random.rand(3, 3, 32, 32)\n",
    "x = torch.tensor(x, dtype=torch.float)\n",
    "x = mtlmodel(x)\n",
    "print(x)\n"
   ],
   "metadata": {
    "collapsed": false,
    "pycharm": {
     "name": "#%%\n"
    }
   }
  },
  {
   "cell_type": "markdown",
   "metadata": {},
   "source": [
    "# Train"
   ]
  },
  {
   "cell_type": "code",
   "execution_count": 35,
   "metadata": {},
   "outputs": [],
   "source": [
    "checkpoint = 'checkpoint/'\n",
    "trainer = Trainer(mtlmodel, trainDataloaderDict, valDataloaderDict, criterionDict, metricDict, \n",
    "                  print_iters=100, val_iters=500, save_num=1, policy_update_iters=100)"
   ]
  },
  {
   "cell_type": "markdown",
   "metadata": {},
   "source": [
    "### pre_train"
   ]
  },
  {
   "cell_type": "code",
   "execution_count": 37,
   "metadata": {},
   "outputs": [
    {
     "name": "stdout",
     "output_type": "stream",
     "text": [
      "tensor([[ 0.1147,  0.1412,  0.2567,  ...,  0.0696, -0.3261, -0.2156],\n",
      "        [ 0.0566,  0.0582,  0.2753,  ...,  0.0118, -0.2883, -0.2297],\n",
      "        [ 0.1332,  0.0642,  0.2773,  ...,  0.0091, -0.3091, -0.2357],\n",
      "        ...,\n",
      "        [ 0.1446,  0.0664,  0.2880,  ..., -0.0169, -0.3002, -0.3107],\n",
      "        [ 0.0695,  0.0894,  0.2443,  ...,  0.0736, -0.2408, -0.1788],\n",
      "        [ 0.1659,  0.0728,  0.2453,  ...,  0.1050, -0.2872, -0.1781]],\n",
      "       grad_fn=<AddmmBackward0>)\n"
     ]
    },
    {
     "ename": "RuntimeError",
     "evalue": "number of dims don't match in permute",
     "output_type": "error",
     "traceback": [
      "\u001B[0;31m---------------------------------------------------------------------------\u001B[0m",
      "\u001B[0;31mRuntimeError\u001B[0m                              Traceback (most recent call last)",
      "Input \u001B[0;32mIn [37]\u001B[0m, in \u001B[0;36m<module>\u001B[0;34m\u001B[0m\n\u001B[0;32m----> 1\u001B[0m \u001B[43mtrainer\u001B[49m\u001B[38;5;241;43m.\u001B[39;49m\u001B[43mpre_train\u001B[49m\u001B[43m(\u001B[49m\u001B[43miters\u001B[49m\u001B[38;5;241;43m=\u001B[39;49m\u001B[38;5;241;43m10000\u001B[39;49m\u001B[43m,\u001B[49m\u001B[43m \u001B[49m\u001B[43mlr\u001B[49m\u001B[38;5;241;43m=\u001B[39;49m\u001B[38;5;241;43m0.0001\u001B[39;49m\u001B[43m,\u001B[49m\u001B[43m \u001B[49m\u001B[43msavePath\u001B[49m\u001B[38;5;241;43m=\u001B[39;49m\u001B[43mcheckpoint\u001B[49m\u001B[38;5;241;43m+\u001B[39;49m\u001B[38;5;124;43m'\u001B[39;49m\u001B[38;5;124;43mCityscapes/\u001B[39;49m\u001B[38;5;124;43m'\u001B[39;49m\u001B[43m)\u001B[49m\n",
      "File \u001B[0;32m~/Mine/Academic/research/AutoMTL/mtl_pytorch/trainer.py:50\u001B[0m, in \u001B[0;36mTrainer.pre_train\u001B[0;34m(self, iters, lr, task_iters, writerPath, savePath, reload)\u001B[0m\n\u001B[1;32m     47\u001B[0m \u001B[38;5;28;01mfor\u001B[39;00m i \u001B[38;5;129;01min\u001B[39;00m \u001B[38;5;28mrange\u001B[39m(start, iters):\n\u001B[1;32m     48\u001B[0m     \u001B[38;5;66;03m# Pre-train all weights\u001B[39;00m\n\u001B[1;32m     49\u001B[0m     \u001B[38;5;28;01mif\u001B[39;00m task_iters \u001B[38;5;129;01mis\u001B[39;00m \u001B[38;5;28;01mNone\u001B[39;00m:\n\u001B[0;32m---> 50\u001B[0m         \u001B[38;5;28;43mself\u001B[39;49m\u001B[38;5;241;43m.\u001B[39;49m\u001B[43mtrain_step\u001B[49m\u001B[43m(\u001B[49m\u001B[38;5;124;43m'\u001B[39;49m\u001B[38;5;124;43mpre_train_all\u001B[39;49m\u001B[38;5;124;43m'\u001B[39;49m\u001B[43m,\u001B[49m\u001B[43m \u001B[49m\u001B[43moptimizer\u001B[49m\u001B[43m)\u001B[49m\n\u001B[1;32m     51\u001B[0m     \u001B[38;5;28;01melse\u001B[39;00m:\n\u001B[1;32m     52\u001B[0m         task_idx \u001B[38;5;241m=\u001B[39m \u001B[38;5;28mself\u001B[39m\u001B[38;5;241m.\u001B[39mwhich_task(i, task_iters)\n",
      "File \u001B[0;32m~/Mine/Academic/research/AutoMTL/mtl_pytorch/trainer.py:304\u001B[0m, in \u001B[0;36mTrainer.train_step\u001B[0;34m(self, stage, optimizer, scheduler, tau, hard, policy_idx, loss_lambda)\u001B[0m\n",
      "File \u001B[0;32m/usr/local/lib/python3.9/site-packages/torch/nn/modules/module.py:1102\u001B[0m, in \u001B[0;36mModule._call_impl\u001B[0;34m(self, *input, **kwargs)\u001B[0m\n\u001B[1;32m   1098\u001B[0m \u001B[38;5;66;03m# If we don't have any hooks, we want to skip the rest of the logic in\u001B[39;00m\n\u001B[1;32m   1099\u001B[0m \u001B[38;5;66;03m# this function, and just call forward.\u001B[39;00m\n\u001B[1;32m   1100\u001B[0m \u001B[38;5;28;01mif\u001B[39;00m \u001B[38;5;129;01mnot\u001B[39;00m (\u001B[38;5;28mself\u001B[39m\u001B[38;5;241m.\u001B[39m_backward_hooks \u001B[38;5;129;01mor\u001B[39;00m \u001B[38;5;28mself\u001B[39m\u001B[38;5;241m.\u001B[39m_forward_hooks \u001B[38;5;129;01mor\u001B[39;00m \u001B[38;5;28mself\u001B[39m\u001B[38;5;241m.\u001B[39m_forward_pre_hooks \u001B[38;5;129;01mor\u001B[39;00m _global_backward_hooks\n\u001B[1;32m   1101\u001B[0m         \u001B[38;5;129;01mor\u001B[39;00m _global_forward_hooks \u001B[38;5;129;01mor\u001B[39;00m _global_forward_pre_hooks):\n\u001B[0;32m-> 1102\u001B[0m     \u001B[38;5;28;01mreturn\u001B[39;00m \u001B[43mforward_call\u001B[49m\u001B[43m(\u001B[49m\u001B[38;5;241;43m*\u001B[39;49m\u001B[38;5;28;43minput\u001B[39;49m\u001B[43m,\u001B[49m\u001B[43m \u001B[49m\u001B[38;5;241;43m*\u001B[39;49m\u001B[38;5;241;43m*\u001B[39;49m\u001B[43mkwargs\u001B[49m\u001B[43m)\u001B[49m\n\u001B[1;32m   1103\u001B[0m \u001B[38;5;66;03m# Do not call functions when jit is used\u001B[39;00m\n\u001B[1;32m   1104\u001B[0m full_backward_hooks, non_full_backward_hooks \u001B[38;5;241m=\u001B[39m [], []\n",
      "File \u001B[0;32m~/Mine/Academic/research/AutoMTL/data/metrics/pixel2pixel_loss.py:64\u001B[0m, in \u001B[0;36mDataCriterions.forward\u001B[0;34m(self, pred, gt, mask)\u001B[0m\n\u001B[1;32m     62\u001B[0m \u001B[38;5;28;01mdef\u001B[39;00m \u001B[38;5;21mforward\u001B[39m(\u001B[38;5;28mself\u001B[39m, pred, gt, mask\u001B[38;5;241m=\u001B[39m\u001B[38;5;28;01mNone\u001B[39;00m):\n\u001B[1;32m     63\u001B[0m     \u001B[38;5;28;01mif\u001B[39;00m \u001B[38;5;28mself\u001B[39m\u001B[38;5;241m.\u001B[39mtask \u001B[38;5;241m==\u001B[39m \u001B[38;5;124m'\u001B[39m\u001B[38;5;124msegment_semantic\u001B[39m\u001B[38;5;124m'\u001B[39m:\n\u001B[0;32m---> 64\u001B[0m         \u001B[38;5;28;01mreturn\u001B[39;00m \u001B[38;5;28;43mself\u001B[39;49m\u001B[38;5;241;43m.\u001B[39;49m\u001B[43mseg_loss\u001B[49m\u001B[43m(\u001B[49m\u001B[43mpred\u001B[49m\u001B[43m,\u001B[49m\u001B[43m \u001B[49m\u001B[43mgt\u001B[49m\u001B[43m)\u001B[49m\n\u001B[1;32m     65\u001B[0m     \u001B[38;5;28;01melif\u001B[39;00m \u001B[38;5;28mself\u001B[39m\u001B[38;5;241m.\u001B[39mtask \u001B[38;5;241m==\u001B[39m \u001B[38;5;124m'\u001B[39m\u001B[38;5;124mnormal\u001B[39m\u001B[38;5;124m'\u001B[39m:\n\u001B[1;32m     66\u001B[0m         \u001B[38;5;28;01mreturn\u001B[39;00m \u001B[38;5;28mself\u001B[39m\u001B[38;5;241m.\u001B[39msn_loss(pred, gt, mask)\n",
      "File \u001B[0;32m~/Mine/Academic/research/AutoMTL/data/metrics/pixel2pixel_loss.py:20\u001B[0m, in \u001B[0;36mDataCriterions.seg_loss\u001B[0;34m(self, pred, gt)\u001B[0m\n\u001B[1;32m     19\u001B[0m \u001B[38;5;28;01mdef\u001B[39;00m \u001B[38;5;21mseg_loss\u001B[39m(\u001B[38;5;28mself\u001B[39m, pred, gt):\n\u001B[0;32m---> 20\u001B[0m     prediction \u001B[38;5;241m=\u001B[39m \u001B[43mpred\u001B[49m\u001B[38;5;241;43m.\u001B[39;49m\u001B[43mpermute\u001B[49m\u001B[43m(\u001B[49m\u001B[38;5;241;43m0\u001B[39;49m\u001B[43m,\u001B[49m\u001B[43m \u001B[49m\u001B[38;5;241;43m2\u001B[39;49m\u001B[43m,\u001B[49m\u001B[43m \u001B[49m\u001B[38;5;241;43m3\u001B[39;49m\u001B[43m,\u001B[49m\u001B[43m \u001B[49m\u001B[38;5;241;43m1\u001B[39;49m\u001B[43m)\u001B[49m\u001B[38;5;241m.\u001B[39mcontiguous()\u001B[38;5;241m.\u001B[39mview(\u001B[38;5;241m-\u001B[39m\u001B[38;5;241m1\u001B[39m, \u001B[38;5;28mself\u001B[39m\u001B[38;5;241m.\u001B[39mnum_seg_cls)\n\u001B[1;32m     21\u001B[0m     new_shape \u001B[38;5;241m=\u001B[39m pred\u001B[38;5;241m.\u001B[39mshape[\u001B[38;5;241m-\u001B[39m\u001B[38;5;241m2\u001B[39m:]\n\u001B[1;32m     22\u001B[0m     gt \u001B[38;5;241m=\u001B[39m F\u001B[38;5;241m.\u001B[39minterpolate(gt\u001B[38;5;241m.\u001B[39mfloat(), size\u001B[38;5;241m=\u001B[39mnew_shape)\u001B[38;5;241m.\u001B[39mpermute(\u001B[38;5;241m0\u001B[39m, \u001B[38;5;241m2\u001B[39m, \u001B[38;5;241m3\u001B[39m, \u001B[38;5;241m1\u001B[39m)\u001B[38;5;241m.\u001B[39mcontiguous()\u001B[38;5;241m.\u001B[39mview(\u001B[38;5;241m-\u001B[39m\u001B[38;5;241m1\u001B[39m)\n",
      "\u001B[0;31mRuntimeError\u001B[0m: number of dims don't match in permute"
     ]
    }
   ],
   "source": [
    "trainer.pre_train(iters=10000, lr=0.0001, savePath=checkpoint+'Cityscapes/')"
   ]
  },
  {
   "cell_type": "markdown",
   "metadata": {},
   "source": [
    "### alter_train"
   ]
  },
  {
   "cell_type": "code",
   "execution_count": null,
   "metadata": {},
   "outputs": [],
   "source": [
    "loss_lambda = {'segment_semantic': 1, 'depth_zbuffer': 1, 'policy':0.0005}\n",
    "trainer.alter_train_with_reg(iters=20000, policy_network_iters=(100,400), policy_lr=0.01, network_lr=0.0001, \n",
    "                             loss_lambda=loss_lambda,\n",
    "                             savePath=checkpoint+'Cityscapes/')"
   ]
  },
  {
   "cell_type": "markdown",
   "metadata": {},
   "source": [
    "### sample policy from trained policy distribution and save"
   ]
  },
  {
   "cell_type": "code",
   "execution_count": null,
   "metadata": {},
   "outputs": [],
   "source": [
    "policy_list = {'segment_semantic': [], 'depth_zbuffer': []}\n",
    "name_list = {'segment_semantic': [], 'depth_zbuffer': []}"
   ]
  },
  {
   "cell_type": "code",
   "execution_count": null,
   "metadata": {},
   "outputs": [],
   "source": [
    "for name, param in mtlmodel.named_parameters():\n",
    "    if 'policy' in name and not torch.eq(param, torch.tensor([0., 0., 0.]).cuda()).all():\n",
    "        if 'segment_semantic' in name:\n",
    "            policy_list['segment_semantic'].append(param.data.cpu().detach().numpy())\n",
    "            name_list['segment_semantic'].append(name)\n",
    "        elif 'depth_zbuffer' in name:\n",
    "            policy_list['depth_zbuffer'].append(param.data.cpu().detach().numpy())\n",
    "            name_list['depth_zbuffer'].append(name)"
   ]
  },
  {
   "cell_type": "code",
   "execution_count": null,
   "metadata": {},
   "outputs": [],
   "source": [
    "sample_policy_dict = OrderedDict()\n",
    "for task in tasks:\n",
    "    for name, policy in zip(name_list[task], policy_list[task]):\n",
    "        distribution = softmax(policy, axis=-1)\n",
    "        distribution /= sum(distribution)\n",
    "        choice = np.random.choice((0,1,2), p=distribution)\n",
    "        if choice == 0:\n",
    "            sample_policy_dict[name] = torch.tensor([1.0,0.0,0.0]).cuda()\n",
    "        elif choice == 1:\n",
    "            sample_policy_dict[name] = torch.tensor([0.0,1.0,0.0]).cuda()\n",
    "        elif choice == 2:\n",
    "            sample_policy_dict[name] = torch.tensor([0.0,0.0,1.0]).cuda()"
   ]
  },
  {
   "cell_type": "code",
   "execution_count": null,
   "metadata": {},
   "outputs": [],
   "source": [
    "sample_state = {'state_dict': sample_policy_dict}\n",
    "torch.save(sample_state, sample_path + 'sample_policy.model')"
   ]
  },
  {
   "cell_type": "markdown",
   "metadata": {},
   "source": [
    "### post train from scratch"
   ]
  },
  {
   "cell_type": "code",
   "execution_count": null,
   "metadata": {},
   "outputs": [],
   "source": [
    "loss_lambda = {'segment_semantic': 1, 'depth_zbuffer': 1}\n",
    "trainer.post_train(iters=40000, lr=0.001, \n",
    "                   decay_lr_freq=4000, decay_lr_rate=0.5,\n",
    "                   loss_lambda=loss_lambda,\n",
    "                   savePath=checkpoint+'Cityscapes/', reload='sample_policy.model')"
   ]
  },
  {
   "cell_type": "markdown",
   "metadata": {},
   "source": [
    "### get the validation results in the paper "
   ]
  },
  {
   "cell_type": "code",
   "execution_count": null,
   "metadata": {},
   "outputs": [],
   "source": [
    "mtlmodel.load_state_dict(torch.load('CityScapes.model'))\n",
    "trainer.validate('mtl', hard=True) "
   ]
  },
  {
   "cell_type": "markdown",
   "metadata": {},
   "source": [
    "# Inference"
   ]
  },
  {
   "cell_type": "code",
   "execution_count": null,
   "metadata": {},
   "outputs": [],
   "source": [
    "mtlmodel.load_state_dict(torch.load('CityScapes.model'))\n",
    "output = mtlmodel(x, task='segment_semantic', hard=True)"
   ]
  }
 ],
 "metadata": {
  "kernelspec": {
   "display_name": "Python 3",
   "language": "python",
   "name": "python3"
  },
  "language_info": {
   "codemirror_mode": {
    "name": "ipython",
    "version": 3
   },
   "file_extension": ".py",
   "mimetype": "text/x-python",
   "name": "python",
   "nbconvert_exporter": "python",
   "pygments_lexer": "ipython3",
   "version": "3.6.12"
  }
 },
 "nbformat": 4,
 "nbformat_minor": 4
}