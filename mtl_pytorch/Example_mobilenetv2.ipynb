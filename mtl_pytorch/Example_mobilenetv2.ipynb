{
 "cells": [
  {
   "cell_type": "code",
   "execution_count": 1,
   "metadata": {
    "pycharm": {
     "name": "#%%\n"
    }
   },
   "outputs": [],
   "source": [
    "%load_ext autoreload\n",
    "%autoreload 2\n",
    "import numpy as np\n",
    "import os\n",
    "import warnings\n",
    "warnings.simplefilter(action='ignore', category=FutureWarning)\n",
    "import matplotlib.pyplot as plt\n",
    "\n",
    "import torch\n",
    "import torch.nn as nn\n",
    "import torch.nn.functional as F\n",
    "from torch.utils.data import DataLoader\n",
    "from torch.utils.tensorboard import SummaryWriter\n",
    "from mtl_pytorch.layer_node import Conv2dNode, BN2dNode\n",
    "\n",
    "from mtl_pytorch.trainer import Trainer\n",
    "from data.heads.pixel2pixel import ASPPHeadNode\n",
    "\n",
    "from data.dataloader.cityscapes_dataloader import CityScapes\n",
    "from data.metrics.pixel2pixel_loss import CityScapesCriterions\n",
    "from data.metrics.pixel2pixel_metrics import CityScapesMetrics\n",
    "\n",
    "from mobilenetv2 import mobilenet_v2\n",
    "\n",
    "from mtl_model import mtl_model\n",
    "\n",
    "from data.dataloader.nyuv2_dataloader import NYU_v2\n",
    "from data.metrics.pixel2pixel_loss import NYUCriterions\n",
    "from data.metrics.pixel2pixel_metrics import NYUMetrics\n",
    "\n",
    "from data.dataloader.taskonomy_dataloader import Taskonomy\n",
    "from data.metrics.pixel2pixel_loss import TaskonomyCriterions\n",
    "from data.metrics.pixel2pixel_metrics import TaskonomyMetrics"
   ]
  },
  {
   "cell_type": "markdown",
   "metadata": {
    "pycharm": {
     "name": "#%% md\n"
    }
   },
   "source": [
    "# Data"
   ]
  },
  {
   "cell_type": "code",
   "execution_count": 2,
   "metadata": {
    "pycharm": {
     "name": "#%%\n"
    }
   },
   "outputs": [],
   "source": [
    "dataroot = 'datasets/Cityscapes/'\n",
    "\n",
    "headsDict = nn.ModuleDict()\n",
    "trainDataloaderDict = {}\n",
    "valDataloaderDict = {}\n",
    "criterionDict = {}\n",
    "metricDict = {}\n",
    "\n",
    "tasks = ['segment_semantic', 'depth_zbuffer']\n",
    "task_cls_num = {'segment_semantic': 19, 'depth_zbuffer': 1}\n",
    "for task in tasks:\n",
    "    headsDict[task] = ASPPHeadNode(1280, task_cls_num[task])\n",
    "\n",
    "    # For model trainer\n",
    "    dataset = CityScapes(dataroot, 'train', task, crop_h=224, crop_w=224)\n",
    "    trainDataloaderDict[task] = DataLoader(dataset, 16, shuffle=True)\n",
    "\n",
    "    dataset = CityScapes(dataroot, 'test', task)\n",
    "    valDataloaderDict[task] = DataLoader(dataset, 16, shuffle=True)\n",
    "\n",
    "    criterionDict[task] = CityScapesCriterions(task)\n",
    "    metricDict[task] = CityScapesMetrics(task)"
   ]
  },
  {
   "cell_type": "markdown",
   "metadata": {
    "pycharm": {
     "name": "#%% md\n"
    }
   },
   "source": [
    "# Model"
   ]
  },
  {
   "cell_type": "code",
   "execution_count": 3,
   "metadata": {
    "pycharm": {
     "name": "#%%\n"
    }
   },
   "outputs": [],
   "source": [
    "mtlmodel = mobilenet_v2(False, heads_dict=headsDict)\n",
    "# don't use wrapper anymore mtlmodel = mtl_model(model=model, headsDict=headsDict)"
   ]
  },
  {
   "cell_type": "markdown",
   "metadata": {
    "pycharm": {
     "name": "#%% md\n"
    }
   },
   "source": [
    "# Train"
   ]
  },
  {
   "cell_type": "code",
   "execution_count": 4,
   "metadata": {
    "pycharm": {
     "name": "#%%\n"
    }
   },
   "outputs": [],
   "source": [
    "checkpoint = 'checkpoint/'\n",
    "trainer = Trainer(mtlmodel, trainDataloaderDict, valDataloaderDict, criterionDict, metricDict, \n",
    "                  print_iters=100, val_iters=500, save_num=1, policy_update_iters=100)"
   ]
  },
  {
   "cell_type": "markdown",
   "metadata": {
    "pycharm": {
     "name": "#%% md\n"
    }
   },
   "source": [
    "### pre_train"
   ]
  },
  {
   "cell_type": "code",
   "execution_count": 5,
   "metadata": {
    "pycharm": {
     "name": "#%%\n"
    }
   },
   "outputs": [
    {
     "name": "stdout",
     "output_type": "stream",
     "text": [
      "0\n",
      "segment_semantic\n",
      "before forwarding pre_train_all\n",
      "depth_zbuffer\n",
      "before forwarding pre_train_all\n"
     ]
    }
   ],
   "source": [
    "trainer.pre_train(iters=1, lr=0.0001, savePath=checkpoint+'Cityscapes/')"
   ]
  },
  {
   "cell_type": "markdown",
   "metadata": {
    "pycharm": {
     "name": "#%% md\n"
    }
   },
   "source": [
    "### alter_train"
   ]
  },
  {
   "cell_type": "code",
   "execution_count": 6,
   "metadata": {
    "pycharm": {
     "name": "#%%\n"
    }
   },
   "outputs": [
    {
     "name": "stdout",
     "output_type": "stream",
     "text": [
      "before forwarding mtl\n",
      "before forwarding mtl\n",
      "before forwarding mtl\n",
      "before forwarding mtl\n",
      "before forwarding mtl\n",
      "before forwarding mtl\n",
      "before forwarding mtl\n",
      "before forwarding mtl\n"
     ]
    }
   ],
   "source": [
    "loss_lambda = {'segment_semantic': 1, 'depth_zbuffer': 1, 'policy':0.0005}\n",
    "trainer.alter_train_with_reg(iters=4, policy_network_iters=(100,400), policy_lr=0.01, network_lr=0.0001,\n",
    "                             loss_lambda=loss_lambda,\n",
    "                             savePath=checkpoint+'Cityscapes/')"
   ]
  },
  {
   "cell_type": "markdown",
   "metadata": {
    "pycharm": {
     "name": "#%% md\n"
    }
   },
   "source": [
    "### sample policy from trained policy distribution and save"
   ]
  },
  {
   "cell_type": "code",
   "execution_count": 7,
   "metadata": {
    "pycharm": {
     "name": "#%%\n"
    }
   },
   "outputs": [],
   "source": [
    "policy_list = {'segment_semantic': [], 'depth_zbuffer': []}\n",
    "name_list = {'segment_semantic': [], 'depth_zbuffer': []}"
   ]
  },
  {
   "cell_type": "code",
   "execution_count": 8,
   "metadata": {
    "pycharm": {
     "name": "#%%\n"
    }
   },
   "outputs": [
    {
     "name": "stdout",
     "output_type": "stream",
     "text": [
      "features.models.0.models.0.policy.segment_semantic Parameter containing:\n",
      "tensor([ 0.0107, -0.0093, -0.0263], requires_grad=True)\n",
      "features.models.0.models.0.policy.depth_zbuffer Parameter containing:\n",
      "tensor([ 0.0501, -0.0490, -0.0488], requires_grad=True)\n",
      "features.models.18.models.0.policy.segment_semantic Parameter containing:\n",
      "tensor([-4.8038e-02, -1.8133e-05,  4.0110e-02], requires_grad=True)\n",
      "features.models.18.models.0.policy.depth_zbuffer Parameter containing:\n",
      "tensor([-0.0368,  0.0267,  0.0192], requires_grad=True)\n"
     ]
    }
   ],
   "source": [
    "for name, param in mtlmodel.named_parameters():\n",
    "    if 'policy' in name and not torch.eq(param, torch.tensor([0., 0., 0.])).all():\n",
    "        if 'segment_semantic' in name:\n",
    "            policy_list['segment_semantic'].append(param.data.cpu().detach().numpy())\n",
    "            name_list['segment_semantic'].append(name)\n",
    "        elif 'depth_zbuffer' in name:\n",
    "            policy_list['depth_zbuffer'].append(param.data.cpu().detach().numpy())\n",
    "            name_list['depth_zbuffer'].append(name)"
   ]
  },
  {
   "cell_type": "code",
   "execution_count": 9,
   "metadata": {
    "pycharm": {
     "name": "#%%\n"
    }
   },
   "outputs": [],
   "source": [
    "from collections import OrderedDict\n",
    "from scipy.special import softmax\n",
    "\n",
    "sample_policy_dict = OrderedDict()\n",
    "for task in tasks:\n",
    "    for name, policy in zip(name_list[task], policy_list[task]):\n",
    "        # distribution = softmax(policy, axis=-1\n",
    "        distribution = softmax(policy, axis=-1)\n",
    "        distribution /= sum(distribution)\n",
    "\n",
    "        choice = np.random.choice((0,1,2), p=distribution)\n",
    "        if choice == 0:\n",
    "            sample_policy_dict[name] = torch.tensor([1.0,0.0,0.0])\n",
    "        elif choice == 1:\n",
    "            sample_policy_dict[name] = torch.tensor([0.0,1.0,0.0])\n",
    "        elif choice == 2:\n",
    "            sample_policy_dict[name] = torch.tensor([0.0,0.0,1.0])"
   ]
  },
  {
   "cell_type": "code",
   "execution_count": 10,
   "outputs": [
    {
     "name": "stdout",
     "output_type": "stream",
     "text": [
      "OrderedDict([('features.models.0.models.0.policy.segment_semantic', tensor([1., 0., 0.])), ('features.models.18.models.0.policy.segment_semantic', tensor([0., 0., 1.])), ('features.models.0.models.0.policy.depth_zbuffer', tensor([1., 0., 0.])), ('features.models.18.models.0.policy.depth_zbuffer', tensor([0., 1., 0.]))])\n"
     ]
    }
   ],
   "source": [
    "print(sample_policy_dict)"
   ],
   "metadata": {
    "collapsed": false,
    "pycharm": {
     "name": "#%%\n"
    }
   }
  },
  {
   "cell_type": "code",
   "execution_count": 18,
   "metadata": {
    "pycharm": {
     "name": "#%%\n"
    }
   },
   "outputs": [],
   "source": [
    "sample_path = '.'\n",
    "# app.run(debug=True, use_reloader=False)\n",
    "sample_state = {'state_dict': sample_policy_dict}\n",
    "torch.save(sample_state, sample_path + 'sample_policy.model')"
   ]
  },
  {
   "cell_type": "markdown",
   "metadata": {
    "pycharm": {
     "name": "#%% md\n"
    }
   },
   "source": [
    "### post train from scratch"
   ]
  },
  {
   "cell_type": "code",
   "execution_count": 24,
   "metadata": {
    "pycharm": {
     "name": "#%%\n"
    }
   },
   "outputs": [
    {
     "name": "stdout",
     "output_type": "stream",
     "text": [
      "Task Policy:\n",
      "OrderedDict([('features.models.0.models.0.policy.segment_semantic', tensor([1., 0., 0.])), ('features.models.18.models.0.policy.segment_semantic', tensor([0., 0., 1.])), ('features.models.0.models.0.policy.depth_zbuffer', tensor([1., 0., 0.])), ('features.models.18.models.0.policy.depth_zbuffer', tensor([0., 1., 0.]))])\n",
      "segment_semantic\n",
      "depth_zbuffer\n"
     ]
    }
   ],
   "source": [
    "loss_lambda = {'segment_semantic': 1, 'depth_zbuffer': 1}\n",
    "trainer.post_train(iters=1, lr=0.001,\n",
    "                   decay_lr_freq=4000, decay_lr_rate=0.5,\n",
    "                   loss_lambda=loss_lambda,\n",
    "                   savePath=checkpoint+'Cityscapes/',\n",
    "                   reload='sample_policy.model')"
   ]
  },
  {
   "cell_type": "markdown",
   "metadata": {
    "pycharm": {
     "name": "#%% md\n"
    }
   },
   "source": [
    "### get the validation results in the paper "
   ]
  },
  {
   "cell_type": "code",
   "execution_count": 25,
   "metadata": {
    "pycharm": {
     "name": "#%%\n"
    }
   },
   "outputs": [
    {
     "ename": "FileNotFoundError",
     "evalue": "[Errno 2] No such file or directory: 'CityScapes.model'",
     "output_type": "error",
     "traceback": [
      "\u001B[0;31m---------------------------------------------------------------------------\u001B[0m",
      "\u001B[0;31mFileNotFoundError\u001B[0m                         Traceback (most recent call last)",
      "Input \u001B[0;32mIn [25]\u001B[0m, in \u001B[0;36m<module>\u001B[0;34m\u001B[0m\n\u001B[0;32m----> 1\u001B[0m mtlmodel\u001B[38;5;241m.\u001B[39mload_state_dict(\u001B[43mtorch\u001B[49m\u001B[38;5;241;43m.\u001B[39;49m\u001B[43mload\u001B[49m\u001B[43m(\u001B[49m\u001B[38;5;124;43m'\u001B[39;49m\u001B[38;5;124;43mCityScapes.model\u001B[39;49m\u001B[38;5;124;43m'\u001B[39;49m\u001B[43m)\u001B[49m)\n\u001B[1;32m      2\u001B[0m trainer\u001B[38;5;241m.\u001B[39mvalidate(\u001B[38;5;124m'\u001B[39m\u001B[38;5;124mmtl\u001B[39m\u001B[38;5;124m'\u001B[39m, hard\u001B[38;5;241m=\u001B[39m\u001B[38;5;28;01mTrue\u001B[39;00m)\n",
      "File \u001B[0;32m/usr/local/lib/python3.9/site-packages/torch/serialization.py:594\u001B[0m, in \u001B[0;36mload\u001B[0;34m(f, map_location, pickle_module, **pickle_load_args)\u001B[0m\n\u001B[1;32m    591\u001B[0m \u001B[38;5;28;01mif\u001B[39;00m \u001B[38;5;124m'\u001B[39m\u001B[38;5;124mencoding\u001B[39m\u001B[38;5;124m'\u001B[39m \u001B[38;5;129;01mnot\u001B[39;00m \u001B[38;5;129;01min\u001B[39;00m pickle_load_args\u001B[38;5;241m.\u001B[39mkeys():\n\u001B[1;32m    592\u001B[0m     pickle_load_args[\u001B[38;5;124m'\u001B[39m\u001B[38;5;124mencoding\u001B[39m\u001B[38;5;124m'\u001B[39m] \u001B[38;5;241m=\u001B[39m \u001B[38;5;124m'\u001B[39m\u001B[38;5;124mutf-8\u001B[39m\u001B[38;5;124m'\u001B[39m\n\u001B[0;32m--> 594\u001B[0m \u001B[38;5;28;01mwith\u001B[39;00m \u001B[43m_open_file_like\u001B[49m\u001B[43m(\u001B[49m\u001B[43mf\u001B[49m\u001B[43m,\u001B[49m\u001B[43m \u001B[49m\u001B[38;5;124;43m'\u001B[39;49m\u001B[38;5;124;43mrb\u001B[39;49m\u001B[38;5;124;43m'\u001B[39;49m\u001B[43m)\u001B[49m \u001B[38;5;28;01mas\u001B[39;00m opened_file:\n\u001B[1;32m    595\u001B[0m     \u001B[38;5;28;01mif\u001B[39;00m _is_zipfile(opened_file):\n\u001B[1;32m    596\u001B[0m         \u001B[38;5;66;03m# The zipfile reader is going to advance the current file position.\u001B[39;00m\n\u001B[1;32m    597\u001B[0m         \u001B[38;5;66;03m# If we want to actually tail call to torch.jit.load, we need to\u001B[39;00m\n\u001B[1;32m    598\u001B[0m         \u001B[38;5;66;03m# reset back to the original position.\u001B[39;00m\n\u001B[1;32m    599\u001B[0m         orig_position \u001B[38;5;241m=\u001B[39m opened_file\u001B[38;5;241m.\u001B[39mtell()\n",
      "File \u001B[0;32m/usr/local/lib/python3.9/site-packages/torch/serialization.py:230\u001B[0m, in \u001B[0;36m_open_file_like\u001B[0;34m(name_or_buffer, mode)\u001B[0m\n\u001B[1;32m    228\u001B[0m \u001B[38;5;28;01mdef\u001B[39;00m \u001B[38;5;21m_open_file_like\u001B[39m(name_or_buffer, mode):\n\u001B[1;32m    229\u001B[0m     \u001B[38;5;28;01mif\u001B[39;00m _is_path(name_or_buffer):\n\u001B[0;32m--> 230\u001B[0m         \u001B[38;5;28;01mreturn\u001B[39;00m \u001B[43m_open_file\u001B[49m\u001B[43m(\u001B[49m\u001B[43mname_or_buffer\u001B[49m\u001B[43m,\u001B[49m\u001B[43m \u001B[49m\u001B[43mmode\u001B[49m\u001B[43m)\u001B[49m\n\u001B[1;32m    231\u001B[0m     \u001B[38;5;28;01melse\u001B[39;00m:\n\u001B[1;32m    232\u001B[0m         \u001B[38;5;28;01mif\u001B[39;00m \u001B[38;5;124m'\u001B[39m\u001B[38;5;124mw\u001B[39m\u001B[38;5;124m'\u001B[39m \u001B[38;5;129;01min\u001B[39;00m mode:\n",
      "File \u001B[0;32m/usr/local/lib/python3.9/site-packages/torch/serialization.py:211\u001B[0m, in \u001B[0;36m_open_file.__init__\u001B[0;34m(self, name, mode)\u001B[0m\n\u001B[1;32m    210\u001B[0m \u001B[38;5;28;01mdef\u001B[39;00m \u001B[38;5;21m__init__\u001B[39m(\u001B[38;5;28mself\u001B[39m, name, mode):\n\u001B[0;32m--> 211\u001B[0m     \u001B[38;5;28msuper\u001B[39m(_open_file, \u001B[38;5;28mself\u001B[39m)\u001B[38;5;241m.\u001B[39m\u001B[38;5;21m__init__\u001B[39m(\u001B[38;5;28;43mopen\u001B[39;49m\u001B[43m(\u001B[49m\u001B[43mname\u001B[49m\u001B[43m,\u001B[49m\u001B[43m \u001B[49m\u001B[43mmode\u001B[49m\u001B[43m)\u001B[49m)\n",
      "\u001B[0;31mFileNotFoundError\u001B[0m: [Errno 2] No such file or directory: 'CityScapes.model'"
     ]
    }
   ],
   "source": [
    "mtlmodel.load_state_dict(torch.load('CityScapes.model'))\n",
    "trainer.validate('mtl', hard=True) "
   ]
  },
  {
   "cell_type": "markdown",
   "metadata": {
    "pycharm": {
     "name": "#%% md\n"
    }
   },
   "source": [
    "# Inference"
   ]
  },
  {
   "cell_type": "code",
   "execution_count": null,
   "metadata": {
    "pycharm": {
     "name": "#%%\n"
    }
   },
   "outputs": [],
   "source": [
    "mtlmodel.load_state_dict(torch.load('CityScapes.model'))\n",
    "output = mtlmodel(x, task='segment_semantic', hard=True)"
   ]
  }
 ],
 "metadata": {
  "kernelspec": {
   "display_name": "Python 3",
   "language": "python",
   "name": "python3"
  },
  "language_info": {
   "codemirror_mode": {
    "name": "ipython",
    "version": 3
   },
   "file_extension": ".py",
   "mimetype": "text/x-python",
   "name": "python",
   "nbconvert_exporter": "python",
   "pygments_lexer": "ipython3",
   "version": "3.6.12"
  }
 },
 "nbformat": 4,
 "nbformat_minor": 4
}