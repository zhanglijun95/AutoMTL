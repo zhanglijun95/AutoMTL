{
 "cells": [
  {
   "cell_type": "code",
   "execution_count": 1,
   "metadata": {},
   "outputs": [],
   "source": [
    "import sys\n",
    "sys.path.append('../')\n",
    "import numpy as np\n",
    "import os\n",
    "import warnings\n",
    "warnings.simplefilter(action='ignore', category=FutureWarning)\n",
    "import matplotlib.pyplot as plt\n",
    "import matplotlib as mpl\n",
    "from scipy.special import softmax\n",
    "from scipy import spatial\n",
    "from mpl_toolkits.axes_grid1 import make_axes_locatable\n",
    "\n",
    "import torch\n",
    "import torch.nn as nn\n",
    "import torch.nn.functional as F\n",
    "from torch.utils.data import DataLoader\n",
    "\n",
    "from framework.mtl_model import MTLModel\n",
    "from data.heads.pixel2pixel import ASPPHeadNode"
   ]
  },
  {
   "cell_type": "code",
   "execution_count": 2,
   "metadata": {},
   "outputs": [],
   "source": [
    "headsDict = nn.ModuleDict()\n",
    "tasks = ['segment_semantic', 'depth_zbuffer']  # Cityscapes\n",
    "task_cls_num = {'segment_semantic': 19, 'depth_zbuffer': 1}  # Cityscapes\n",
    "\n",
    "# tasks = ['segment_semantic','normal','depth_zbuffer'] # NYUv2\n",
    "# task_cls_num = {'segment_semantic': 40, 'normal':3, 'depth_zbuffer': 1} # NYUv2\n",
    "\n",
    "# tasks = ['segment_semantic', 'normal', 'depth_zbuffer', 'keypoints2d', 'edge_texture'] # Taskonomy \n",
    "# task_cls_num = {'segment_semantic': 17, 'normal': 3, 'depth_zbuffer': 1, 'keypoints2d': 1, 'edge_texture': 1} # Taskonomy\n",
    "\n",
    "for task in tasks:\n",
    "    headsDict[task] = ASPPHeadNode(512, task_cls_num[task]) # resnet34:512, mobiltnet:1280, mnasnet:1280"
   ]
  },
  {
   "cell_type": "code",
   "execution_count": 3,
   "metadata": {},
   "outputs": [],
   "source": [
    "prototxt = '../models/deeplab_resnet34_adashare.prototxt'\n",
    "# prototxt = 'models/mobilenetv2.prototxt'\n",
    "# prototxt = 'models/mnasnet.prototxt'\n",
    "mtlmodel = MTLModel(prototxt, headsDict, BNsp=True)\n",
    "mtlmodel = mtlmodel.cuda()"
   ]
  },
  {
   "cell_type": "markdown",
   "metadata": {},
   "source": [
    "# Policy Visualization"
   ]
  },
  {
   "cell_type": "code",
   "execution_count": 11,
   "metadata": {},
   "outputs": [
    {
     "data": {
      "text/plain": [
       "<All keys matched successfully>"
      ]
     },
     "execution_count": 11,
     "metadata": {},
     "output_type": "execute_result"
    }
   ],
   "source": [
    "folder = '/mnt/nfs/work1/huiguan/lijunzhang/policymtl/checkpoint/'\n",
    "# state = torch.load(folder+'Cityscapes/' + 'alter_train_with_reg_0005_20000iter.model')  # Cityscapes\n",
    "# state = torch.load(folder+'NYUv2/' + 'alter_train_with_reg_001_20000iter.model')  # NYUv2\n",
    "state = torch.load(folder+'Taskonomy/' + 'alter_train_with_reg_0005_20000iter.model')  # Taskonomy\n",
    "mtlmodel.load_state_dict(state['state_dict'], strict=False)"
   ]
  },
  {
   "cell_type": "code",
   "execution_count": 15,
   "metadata": {},
   "outputs": [],
   "source": [
    "# policy_list = {'segment_semantic': [], 'depth_zbuffer': []}   # Cityscapes\n",
    "# policy_list = {'segment_semantic': [], 'normal':[], 'depth_zbuffer': []}   # NYUv2\n",
    "policy_list = {'segment_semantic': [], 'normal': [], 'depth_zbuffer': [], 'keypoints2d': [], 'edge_texture': []} # Taskonomy\n",
    "\n",
    "for name, param in mtlmodel.named_parameters():\n",
    "    if 'policy' in name and not torch.eq(param, torch.tensor([0., 0., 0.]).cuda()).all():\n",
    "        policy = param.data.cpu().detach().numpy()\n",
    "        distribution = softmax(policy, axis=-1)\n",
    "        if 'segment_semantic' in name:\n",
    "            policy_list['segment_semantic'].append(distribution)\n",
    "        elif 'normal' in name:\n",
    "            policy_list['normal'].append(distribution)\n",
    "        elif 'depth_zbuffer' in name:\n",
    "            policy_list['depth_zbuffer'].append(distribution)\n",
    "        elif 'keypoints2d' in name:\n",
    "            policy_list['keypoints2d'].append(distribution)\n",
    "        elif 'edge_texture' in name:\n",
    "            policy_list['edge_texture'].append(distribution)"
   ]
  },
  {
   "cell_type": "code",
   "execution_count": 14,
   "metadata": {
    "collapsed": true,
    "jupyter": {
     "outputs_hidden": true
    }
   },
   "outputs": [
    {
     "data": {
      "text/plain": [
       "{'segment_semantic': [array([0.39202362, 0.35769948, 0.25027686], dtype=float32),\n",
       "  array([0.46032843, 0.4008471 , 0.13882454], dtype=float32),\n",
       "  array([0.4602718 , 0.3439025 , 0.19582564], dtype=float32),\n",
       "  array([0.43130836, 0.33673358, 0.23195805], dtype=float32),\n",
       "  array([0.37796295, 0.30625042, 0.31578678], dtype=float32),\n",
       "  array([0.41446456, 0.3253184 , 0.26021713], dtype=float32),\n",
       "  array([0.39369014, 0.32296875, 0.2833411 ], dtype=float32),\n",
       "  array([0.40811697, 0.33306327, 0.2588198 ], dtype=float32),\n",
       "  array([0.45477405, 0.34459704, 0.20062885], dtype=float32),\n",
       "  array([0.46037307, 0.3331801 , 0.2064469 ], dtype=float32),\n",
       "  array([0.43672514, 0.32076472, 0.24251011], dtype=float32),\n",
       "  array([0.40801865, 0.32814568, 0.26383567], dtype=float32),\n",
       "  array([0.38867933, 0.31296897, 0.29835165], dtype=float32),\n",
       "  array([0.41328984, 0.3479279 , 0.23878224], dtype=float32),\n",
       "  array([0.38451114, 0.3289499 , 0.28653893], dtype=float32),\n",
       "  array([0.376637  , 0.315034  , 0.30832896], dtype=float32),\n",
       "  array([0.39954254, 0.34330893, 0.25714853], dtype=float32),\n",
       "  array([0.3989589 , 0.36290467, 0.2381365 ], dtype=float32),\n",
       "  array([0.38058305, 0.3466756 , 0.27274135], dtype=float32),\n",
       "  array([0.38212627, 0.3366746 , 0.28119907], dtype=float32),\n",
       "  array([0.35752428, 0.32462755, 0.31784824], dtype=float32),\n",
       "  array([0.3704609 , 0.33046517, 0.2990738 ], dtype=float32),\n",
       "  array([0.36818188, 0.3413289 , 0.29048932], dtype=float32),\n",
       "  array([0.37236425, 0.33725452, 0.2903812 ], dtype=float32),\n",
       "  array([0.3585741 , 0.34317756, 0.29824847], dtype=float32),\n",
       "  array([0.35326836, 0.32821515, 0.31851658], dtype=float32),\n",
       "  array([0.34624717, 0.33568037, 0.3180725 ], dtype=float32),\n",
       "  array([0.3537095 , 0.32956848, 0.3167221 ], dtype=float32),\n",
       "  array([0.34563878, 0.3401803 , 0.31418082], dtype=float32),\n",
       "  array([0.4061528, 0.3693684, 0.2244787], dtype=float32),\n",
       "  array([0.3665193, 0.3777275, 0.2557532], dtype=float32),\n",
       "  array([0.3828726 , 0.39728245, 0.21984498], dtype=float32),\n",
       "  array([0.38037974, 0.3886612 , 0.23095904], dtype=float32),\n",
       "  array([0.41340908, 0.41717714, 0.16941367], dtype=float32),\n",
       "  array([0.39576304, 0.38665086, 0.21758623], dtype=float32),\n",
       "  array([0.43077904, 0.4218566 , 0.1473643 ], dtype=float32)],\n",
       " 'normal': [array([0.38092202, 0.335591  , 0.283487  ], dtype=float32),\n",
       "  array([0.42892954, 0.3297956 , 0.24127494], dtype=float32),\n",
       "  array([0.45043728, 0.31350082, 0.23606196], dtype=float32),\n",
       "  array([0.41653803, 0.31003284, 0.273429  ], dtype=float32),\n",
       "  array([0.39480534, 0.30816922, 0.29702547], dtype=float32),\n",
       "  array([0.39287463, 0.30924693, 0.2978784 ], dtype=float32),\n",
       "  array([0.39389625, 0.30777046, 0.29833317], dtype=float32),\n",
       "  array([0.41861182, 0.32685772, 0.25453055], dtype=float32),\n",
       "  array([0.44015282, 0.32699573, 0.2328515 ], dtype=float32),\n",
       "  array([0.42042843, 0.32314792, 0.25642362], dtype=float32),\n",
       "  array([0.4047151 , 0.30938783, 0.2858971 ], dtype=float32),\n",
       "  array([0.3989743 , 0.31897473, 0.282051  ], dtype=float32),\n",
       "  array([0.3847948 , 0.32391542, 0.2912898 ], dtype=float32),\n",
       "  array([0.38142765, 0.31769428, 0.3008781 ], dtype=float32),\n",
       "  array([0.37737104, 0.30792153, 0.31470746], dtype=float32),\n",
       "  array([0.3739404 , 0.30790704, 0.31815255], dtype=float32),\n",
       "  array([0.39178464, 0.33107764, 0.27713773], dtype=float32),\n",
       "  array([0.40281475, 0.33146816, 0.2657171 ], dtype=float32),\n",
       "  array([0.38152352, 0.31680518, 0.30167127], dtype=float32),\n",
       "  array([0.3660688 , 0.32047758, 0.31345367], dtype=float32),\n",
       "  array([0.3715435 , 0.31607005, 0.31238657], dtype=float32),\n",
       "  array([0.36402875, 0.31805503, 0.31791618], dtype=float32),\n",
       "  array([0.3638055, 0.3214323, 0.3147621], dtype=float32),\n",
       "  array([0.3541029 , 0.31784657, 0.3280504 ], dtype=float32),\n",
       "  array([0.350869  , 0.3257888 , 0.32334208], dtype=float32),\n",
       "  array([0.34680116, 0.31933877, 0.33386007], dtype=float32),\n",
       "  array([0.34827402, 0.32225424, 0.32947168], dtype=float32),\n",
       "  array([0.34411326, 0.3222735 , 0.33361343], dtype=float32),\n",
       "  array([0.3477637 , 0.3278131 , 0.32442322], dtype=float32),\n",
       "  array([0.3757243 , 0.3457529 , 0.27852288], dtype=float32),\n",
       "  array([0.37396634, 0.35624304, 0.26979053], dtype=float32),\n",
       "  array([0.36872834, 0.36167765, 0.26959407], dtype=float32),\n",
       "  array([0.35589817, 0.3421711 , 0.3019306 ], dtype=float32),\n",
       "  array([0.35431054, 0.35854825, 0.28714103], dtype=float32),\n",
       "  array([0.36202303, 0.35297373, 0.2850032 ], dtype=float32),\n",
       "  array([0.3185938 , 0.38529742, 0.29610872], dtype=float32)],\n",
       " 'depth_zbuffer': [array([0.41019404, 0.29019564, 0.29961038], dtype=float32),\n",
       "  array([0.40602398, 0.29981875, 0.2941573 ], dtype=float32),\n",
       "  array([0.40857157, 0.29559913, 0.29582936], dtype=float32),\n",
       "  array([0.3992828 , 0.29737473, 0.3033425 ], dtype=float32),\n",
       "  array([0.40246707, 0.29429758, 0.30323535], dtype=float32),\n",
       "  array([0.39581007, 0.3017343 , 0.30245572], dtype=float32),\n",
       "  array([0.39214024, 0.3035808 , 0.3042789 ], dtype=float32),\n",
       "  array([0.39270648, 0.3092593 , 0.29803413], dtype=float32),\n",
       "  array([0.40494004, 0.30827183, 0.2867883 ], dtype=float32),\n",
       "  array([0.39211494, 0.30724153, 0.3006436 ], dtype=float32),\n",
       "  array([0.3845997, 0.3083557, 0.3070446], dtype=float32),\n",
       "  array([0.3832116 , 0.30899516, 0.30779308], dtype=float32),\n",
       "  array([0.38175267, 0.3086272 , 0.30962017], dtype=float32),\n",
       "  array([0.3758774, 0.3140852, 0.3100374], dtype=float32),\n",
       "  array([0.37396926, 0.31244013, 0.31359056], dtype=float32),\n",
       "  array([0.37498552, 0.31400248, 0.31101194], dtype=float32),\n",
       "  array([0.37978035, 0.31827182, 0.3019479 ], dtype=float32),\n",
       "  array([0.38510904, 0.31497   , 0.299921  ], dtype=float32),\n",
       "  array([0.37446386, 0.30990687, 0.31562915], dtype=float32),\n",
       "  array([0.3745247 , 0.31396934, 0.3115059 ], dtype=float32),\n",
       "  array([0.36517757, 0.31963047, 0.3151919 ], dtype=float32),\n",
       "  array([0.36268106, 0.31786597, 0.31945306], dtype=float32),\n",
       "  array([0.35869068, 0.32226536, 0.31904396], dtype=float32),\n",
       "  array([0.3599351 , 0.3234478 , 0.31661698], dtype=float32),\n",
       "  array([0.35846245, 0.3198861 , 0.32165134], dtype=float32),\n",
       "  array([0.3553036 , 0.32678884, 0.3179077 ], dtype=float32),\n",
       "  array([0.34867984, 0.3220424 , 0.32927775], dtype=float32),\n",
       "  array([0.34972107, 0.32700223, 0.32327673], dtype=float32),\n",
       "  array([0.34681034, 0.32606563, 0.32712403], dtype=float32),\n",
       "  array([0.35040528, 0.32940966, 0.32018507], dtype=float32),\n",
       "  array([0.36047667, 0.3271234 , 0.31239995], dtype=float32),\n",
       "  array([0.3533513 , 0.32856482, 0.31808385], dtype=float32),\n",
       "  array([0.35193437, 0.33457068, 0.31349498], dtype=float32),\n",
       "  array([0.3588164 , 0.33944228, 0.30174142], dtype=float32),\n",
       "  array([0.35511288, 0.34298104, 0.30190605], dtype=float32),\n",
       "  array([0.35696644, 0.34686995, 0.2961635 ], dtype=float32)],\n",
       " 'keypoints2d': [],\n",
       " 'edge_texture': [array([0.32245943, 0.44721743, 0.23032303], dtype=float32),\n",
       "  array([0.4425458 , 0.48552352, 0.07193072], dtype=float32),\n",
       "  array([0.45008877, 0.41896817, 0.13094299], dtype=float32),\n",
       "  array([0.4320275 , 0.36547026, 0.20250227], dtype=float32),\n",
       "  array([0.46650496, 0.34496117, 0.18853377], dtype=float32),\n",
       "  array([0.4292316 , 0.33344534, 0.237323  ], dtype=float32),\n",
       "  array([0.42914796, 0.3260073 , 0.24484472], dtype=float32),\n",
       "  array([0.44826925, 0.35102803, 0.20070274], dtype=float32),\n",
       "  array([0.41164035, 0.45814288, 0.13021666], dtype=float32),\n",
       "  array([0.3871425 , 0.3667985 , 0.24605905], dtype=float32),\n",
       "  array([0.42616284, 0.33590448, 0.23793273], dtype=float32),\n",
       "  array([0.41270724, 0.32807207, 0.25922057], dtype=float32),\n",
       "  array([0.39151725, 0.3192357 , 0.289247  ], dtype=float32),\n",
       "  array([0.41524145, 0.33724025, 0.2475183 ], dtype=float32),\n",
       "  array([0.3928198 , 0.32351798, 0.28366223], dtype=float32),\n",
       "  array([0.40521175, 0.33993894, 0.2548492 ], dtype=float32),\n",
       "  array([0.41600013, 0.34087443, 0.24312551], dtype=float32),\n",
       "  array([0.44204795, 0.34082448, 0.21712752], dtype=float32),\n",
       "  array([0.4627977 , 0.34406984, 0.19313253], dtype=float32),\n",
       "  array([0.37462536, 0.29868647, 0.32668802], dtype=float32),\n",
       "  array([0.3586172 , 0.29612422, 0.34525856], dtype=float32),\n",
       "  array([0.35440415, 0.3184827 , 0.32711324], dtype=float32),\n",
       "  array([0.37679768, 0.32400912, 0.29919326], dtype=float32),\n",
       "  array([0.34886646, 0.30618417, 0.34494936], dtype=float32),\n",
       "  array([0.36891714, 0.3287751 , 0.3023078 ], dtype=float32),\n",
       "  array([0.35373464, 0.32848066, 0.31778464], dtype=float32),\n",
       "  array([0.36744192, 0.32523766, 0.3073204 ], dtype=float32),\n",
       "  array([0.3361454 , 0.31899497, 0.34485966], dtype=float32),\n",
       "  array([0.35621333, 0.32793814, 0.3158486 ], dtype=float32),\n",
       "  array([0.43797857, 0.3754827 , 0.18653877], dtype=float32),\n",
       "  array([0.3922268 , 0.35501277, 0.25276038], dtype=float32),\n",
       "  array([0.41389325, 0.3745665 , 0.21154016], dtype=float32),\n",
       "  array([0.37983176, 0.35810882, 0.26205945], dtype=float32),\n",
       "  array([0.38942647, 0.3487468 , 0.26182663], dtype=float32),\n",
       "  array([0.3822729, 0.3654978, 0.2522293], dtype=float32),\n",
       "  array([0.43511832, 0.38660908, 0.1782726 ], dtype=float32)]}"
      ]
     },
     "execution_count": 14,
     "metadata": {},
     "output_type": "execute_result"
    }
   ],
   "source": [
    "policy_list"
   ]
  },
  {
   "cell_type": "code",
   "execution_count": 16,
   "metadata": {},
   "outputs": [
    {
     "name": "stderr",
     "output_type": "stream",
     "text": [
      "/home/lijunzhang/anaconda3/envs/multitask/lib/python3.6/site-packages/ipykernel_launcher.py:24: MatplotlibDeprecationWarning: Adding an axes using the same arguments as a previous axes currently reuses the earlier instance.  In a future version, a new instance will always be created and returned.  Meanwhile, this warning can be suppressed, and the future behavior ensured, by passing a unique label to each axes instance.\n"
     ]
    },
    {
     "data": {
      "image/png": "[encoded data removed]",
      "text/plain": [
       "<Figure size 1152x144 with 2 Axes>"
      ]
     },
     "metadata": {
      "needs_background": "light"
     },
     "output_type": "display_data"
    },
    {
     "data": {
      "image/png": "[encoded data removed]",
      "text/plain": [
       "<Figure size 1152x144 with 2 Axes>"
      ]
     },
     "metadata": {
      "needs_background": "light"
     },
     "output_type": "display_data"
    },
    {
     "data": {
      "image/png": "[encoded data removed]",
      "text/plain": [
       "<Figure size 1152x144 with 2 Axes>"
      ]
     },
     "metadata": {
      "needs_background": "light"
     },
     "output_type": "display_data"
    },
    {
     "data": {
      "image/png": "[encoded data removed]",
      "text/plain": [
       "<Figure size 1152x144 with 2 Axes>"
      ]
     },
     "metadata": {
      "needs_background": "light"
     },
     "output_type": "display_data"
    },
    {
     "data": {
      "image/png": "[encoded data removed]",
      "text/plain": [
       "<Figure size 1152x144 with 2 Axes>"
      ]
     },
     "metadata": {
      "needs_background": "light"
     },
     "output_type": "display_data"
    }
   ],
   "source": [
    "spectrum_list = []\n",
    "# ylabels = {'segment_semantic': 'Semantic Seg.','depth_zbuffer': 'Depth Est.'} # Cityscapes\n",
    "# ylabels = {'segment_semantic': 'Semantic Seg.','normal':'Normal Pred.', 'depth_zbuffer': 'Depth Est.'} # NYUv2\n",
    "ylabels = {'segment_semantic': 'Semantic Seg.','normal':'Normal Pred.', 'depth_zbuffer': 'Depth Est.',\n",
    "           'keypoints2d': 'Keypoint Det.', 'edge_texture': 'Edge Det.'} # Taskonomy\n",
    "\n",
    "\n",
    "tickSize = 15\n",
    "labelSize = 16\n",
    "for task in tasks:\n",
    "    policies = policy_list[task]    \n",
    "    spectrum = np.stack([policy for policy in policies])\n",
    "    \n",
    "    spectrum = np.repeat(spectrum[np.newaxis,:,:],1,axis=0)\n",
    "    spectrum_list.append(spectrum)\n",
    "    \n",
    "    # plot\n",
    "    plt.figure(figsize=(16,2))\n",
    "    plt.xlabel('Layer No.', fontsize=labelSize)\n",
    "    plt.xticks(fontsize=tickSize)\n",
    "    plt.ylabel(ylabels[task], fontsize=labelSize)\n",
    "    plt.yticks(fontsize=tickSize)\n",
    "    \n",
    "    ax = plt.subplot()\n",
    "    im = ax.imshow(spectrum.T)\n",
    "    ax.set_yticks(np.arange(3))\n",
    "    ax.set_yticklabels(['shared', 'specific', 'skip'])\n",
    "\n",
    "    divider = make_axes_locatable(ax)\n",
    "    cax = divider.append_axes(\"right\", size=\"2%\", pad=0.05)\n",
    "\n",
    "    cb = plt.colorbar(im, cax=cax)\n",
    "    cb.ax.tick_params(labelsize=tickSize)\n",
    "    plt.show()\n"
   ]
  },
  {
   "cell_type": "markdown",
   "metadata": {},
   "source": [
    "# Task Correlation"
   ]
  },
  {
   "cell_type": "code",
   "execution_count": 49,
   "metadata": {},
   "outputs": [
    {
     "data": {
      "text/plain": [
       "<All keys matched successfully>"
      ]
     },
     "execution_count": 49,
     "metadata": {},
     "output_type": "execute_result"
    }
   ],
   "source": [
    "folder = '/mnt/nfs/work1/huiguan/lijunzhang/policymtl/checkpoint/'\n",
    "# state = torch.load(folder+'Taskonomy/sample_design3_0005_20000/0-40/' + 'post_train_best.model')  \n",
    "state = torch.load(folder+'Taskonomy/' + 'alter_train_with_reg_0005_20000iter.model')  # Taskonomy\n",
    "mtlmodel.load_state_dict(state['state_dict'], strict=False)"
   ]
  },
  {
   "cell_type": "code",
   "execution_count": 50,
   "metadata": {},
   "outputs": [],
   "source": [
    "policy_list = {'segment_semantic': [], 'normal': [], 'depth_zbuffer': [], 'keypoints2d': [], 'edge_texture': []} # Taskonomy\n",
    "for name, param in mtlmodel.named_parameters():\n",
    "    if 'policy' in name and not torch.eq(param, torch.tensor([0., 0., 0.]).cuda()).all():\n",
    "        policy = param.data.cpu().detach().numpy()\n",
    "        if 'segment_semantic' in name:\n",
    "            policy_list['segment_semantic'].append(policy)\n",
    "        elif 'normal' in name:\n",
    "            policy_list['normal'].append(policy)\n",
    "        elif 'depth_zbuffer' in name:\n",
    "            policy_list['depth_zbuffer'].append(policy)\n",
    "        elif 'keypoints2d' in name:\n",
    "            policy_list['keypoints2d'].append(policy)\n",
    "        elif 'edge_texture' in name:\n",
    "            policy_list['edge_texture'].append(policy)"
   ]
  },
  {
   "cell_type": "code",
   "execution_count": 51,
   "metadata": {},
   "outputs": [],
   "source": [
    "policy_array = np.array([np.array(policy_list['segment_semantic']).ravel(), \n",
    "                         np.array(policy_list['normal']).ravel(), \n",
    "                         np.array(policy_list['depth_zbuffer']).ravel(),\n",
    "                         np.array(policy_list['keypoints2d']).ravel(),\n",
    "                         np.array(policy_list['edge_texture']).ravel()])"
   ]
  },
  {
   "cell_type": "code",
   "execution_count": 53,
   "metadata": {},
   "outputs": [],
   "source": [
    "sim = np.zeros((5,5))\n",
    "for i in range(len(tasks)):\n",
    "    for j in range(len(tasks)):\n",
    "        sim[i,j] = 1 - spatial.distance.cosine(policy_array[i,:], policy_array[j,:])"
   ]
  },
  {
   "cell_type": "code",
   "execution_count": 54,
   "metadata": {},
   "outputs": [
    {
     "data": {
      "text/plain": [
       "array([[1.        , 0.86430103, 0.71090776, 0.84819722, 0.87713093],\n",
       "       [0.86430103, 1.        , 0.87953949, 0.85802144, 0.82584214],\n",
       "       [0.71090776, 0.87953949, 1.        , 0.62769282, 0.60842031],\n",
       "       [0.84819722, 0.85802144, 0.62769282, 1.        , 0.95255029],\n",
       "       [0.87713093, 0.82584214, 0.60842031, 0.95255029, 1.        ]])"
      ]
     },
     "execution_count": 54,
     "metadata": {},
     "output_type": "execute_result"
    }
   ],
   "source": [
    "sim"
   ]
  },
  {
   "cell_type": "code",
   "execution_count": 86,
   "metadata": {},
   "outputs": [
    {
     "name": "stderr",
     "output_type": "stream",
     "text": [
      "/home/lijunzhang/anaconda3/envs/multitask/lib/python3.6/site-packages/ipykernel_launcher.py:9: MatplotlibDeprecationWarning: Adding an axes using the same arguments as a previous axes currently reuses the earlier instance.  In a future version, a new instance will always be created and returned.  Meanwhile, this warning can be suppressed, and the future behavior ensured, by passing a unique label to each axes instance.\n",
      "  if __name__ == '__main__':\n"
     ]
    },
    {
     "data": {
      "image/png": "[encoded data removed]",
      "text/plain": [
       "<Figure size 288x288 with 2 Axes>"
      ]
     },
     "metadata": {
      "needs_background": "light"
     },
     "output_type": "display_data"
    }
   ],
   "source": [
    "mpl.rc('image', cmap='Blues')\n",
    "\n",
    "# plot\n",
    "tickSize = 15\n",
    "plt.figure(figsize=(4,4))\n",
    "plt.xticks(fontsize=tickSize, rotation='vertical')\n",
    "plt.yticks(fontsize=tickSize)\n",
    "\n",
    "ax = plt.subplot()\n",
    "im = ax.imshow(sim)\n",
    "ax.set_xticks(np.arange(5))\n",
    "ax.set_yticks(np.arange(5))\n",
    "ax.set_xticklabels(['Seg', 'SN', 'Depth', 'Keypoint', 'Edge'])\n",
    "ax.set_yticklabels(['Seg', 'SN', 'Depth', 'Keypoint', 'Edge'])\n",
    "\n",
    "divider = make_axes_locatable(ax)\n",
    "cax = divider.append_axes(\"right\", size=\"4%\", pad=0.05)\n",
    "\n",
    "cb = plt.colorbar(im, cax=cax,ticks=[1,0.61])\n",
    "cb.ax.set_yticklabels(['high', 'low']) \n",
    "cb.ax.tick_params(labelsize=tickSize)\n",
    "plt.show()"
   ]
  },
  {
   "cell_type": "markdown",
   "metadata": {},
   "source": [
    "### Show Policy (for test)"
   ]
  },
  {
   "cell_type": "code",
   "execution_count": 9,
   "metadata": {},
   "outputs": [],
   "source": [
    "from graphviz import Digraph"
   ]
  },
  {
   "cell_type": "code",
   "execution_count": 8,
   "metadata": {},
   "outputs": [
    {
     "data": {
      "text/plain": [
       "<All keys matched successfully>"
      ]
     },
     "execution_count": 8,
     "metadata": {},
     "output_type": "execute_result"
    }
   ],
   "source": [
    "state = torch.load(folder+'NYUv2/' + 'alter_train_with_reg_001_20000iter.model')  # NYUv2\n",
    "mtlmodel.load_state_dict(state['state_dict'], strict=False)"
   ]
  },
  {
   "cell_type": "code",
   "execution_count": 89,
   "metadata": {},
   "outputs": [],
   "source": [
    "dot = Digraph(comment='Policy')\n",
    "\n",
    "# make nodes\n",
    "layer_num = len(policy_list['segment_semantic'])\n",
    "for i in range(layer_num):\n",
    "    with dot.subgraph(name='cluster_L'+str(i),node_attr={'rank':'same'}) as c:\n",
    "        c.attr(rankdir='LR')\n",
    "        c.node('L'+str(i)+'B0', 'Shared')\n",
    "        c.node('L'+str(i)+'B1', 'Specific')\n",
    "        c.node('L'+str(i)+'B2', 'Skip')\n",
    "        \n",
    "# make edges\n",
    "colors = {'segment_semantic': 'blue', 'depth_zbuffer': 'red'}\n",
    "for task in tasks:\n",
    "    for i in range(layer_num-1):\n",
    "        prev = np.argmax(policy_list[task][i])\n",
    "        nxt = np.argmax(policy_list[task][i+1])\n",
    "        dot.edge('L'+str(i)+'B'+str(prev), 'L'+str(i+1)+'B'+str(nxt), color=colors[task])"
   ]
  },
  {
   "cell_type": "code",
   "execution_count": 90,
   "metadata": {},
   "outputs": [
    {
     "data": {
      "text/plain": [
       "'policy/CityScapes-Best.gv.pdf'"
      ]
     },
     "execution_count": 90,
     "metadata": {},
     "output_type": "execute_result"
    }
   ],
   "source": [
    "dot.render('policy/NYUv2-Best.gv', view=True)  "
   ]
  },
  {
   "cell_type": "markdown",
   "metadata": {},
   "source": [
    "# Model Parmas"
   ]
  },
  {
   "cell_type": "code",
   "execution_count": 12,
   "metadata": {
    "scrolled": true,
    "tags": []
   },
   "outputs": [
    {
     "data": {
      "text/plain": [
       "<All keys matched successfully>"
      ]
     },
     "execution_count": 12,
     "metadata": {},
     "output_type": "execute_result"
    }
   ],
   "source": [
    "folder = '/work/lijunzhang_umass_edu/data/policymtl/checkpoint/'\n",
    "# state = torch.load(folder+'Github-Models/CityScapes.model') \n",
    "# mtlmodel.load_state_dict(state, strict=False)\n",
    "state = torch.load(folder+'Cityscapes/paper/no_pre/0-10-0.0005/' + 'post_train_30000iter.model')  \n",
    "mtlmodel.load_state_dict(state['state_dict'], strict=False)"
   ]
  },
  {
   "cell_type": "code",
   "execution_count": 7,
   "metadata": {},
   "outputs": [],
   "source": [
    "state1 = torch.load(folder+'Cityscapes/paper/pre_re/0-10-0.0005/' + 'post_train_30000iter.model') \n",
    "state2 = torch.load(folder+'Cityscapes/paper/no_pre/0-10-0.0005/' + 'post_train_30000iter.model') "
   ]
  },
  {
   "cell_type": "code",
   "execution_count": 9,
   "metadata": {
    "scrolled": true,
    "tags": []
   },
   "outputs": [
    {
     "name": "stdout",
     "output_type": "stream",
     "text": [
      "net.0.policy.segment_semantic\n",
      "tensor([0., 0., 1.], device='cuda:0')\n",
      "tensor([0., 1., 0.], device='cuda:0')\n",
      "net.0.policy.depth_zbuffer\n",
      "tensor([1., 0., 0.], device='cuda:0')\n",
      "tensor([1., 0., 0.], device='cuda:0')\n",
      "net.4.policy.segment_semantic\n",
      "tensor([1., 0., 0.], device='cuda:0')\n",
      "tensor([1., 0., 0.], device='cuda:0')\n",
      "net.4.policy.depth_zbuffer\n",
      "tensor([0., 0., 1.], device='cuda:0')\n",
      "tensor([0., 0., 1.], device='cuda:0')\n",
      "net.7.policy.segment_semantic\n",
      "tensor([0., 1., 0.], device='cuda:0')\n",
      "tensor([0., 1., 0.], device='cuda:0')\n",
      "net.7.policy.depth_zbuffer\n",
      "tensor([1., 0., 0.], device='cuda:0')\n",
      "tensor([1., 0., 0.], device='cuda:0')\n",
      "net.11.policy.segment_semantic\n",
      "tensor([0., 1., 0.], device='cuda:0')\n",
      "tensor([0., 0., 1.], device='cuda:0')\n",
      "net.11.policy.depth_zbuffer\n",
      "tensor([0., 1., 0.], device='cuda:0')\n",
      "tensor([0., 1., 0.], device='cuda:0')\n",
      "net.14.policy.segment_semantic\n",
      "tensor([0., 1., 0.], device='cuda:0')\n",
      "tensor([0., 1., 0.], device='cuda:0')\n",
      "net.14.policy.depth_zbuffer\n",
      "tensor([0., 1., 0.], device='cuda:0')\n",
      "tensor([0., 1., 0.], device='cuda:0')\n",
      "net.18.policy.segment_semantic\n",
      "tensor([1., 0., 0.], device='cuda:0')\n",
      "tensor([1., 0., 0.], device='cuda:0')\n",
      "net.18.policy.depth_zbuffer\n",
      "tensor([0., 0., 1.], device='cuda:0')\n",
      "tensor([0., 0., 1.], device='cuda:0')\n",
      "net.21.policy.segment_semantic\n",
      "tensor([1., 0., 0.], device='cuda:0')\n",
      "tensor([1., 0., 0.], device='cuda:0')\n",
      "net.21.policy.depth_zbuffer\n",
      "tensor([1., 0., 0.], device='cuda:0')\n",
      "tensor([1., 0., 0.], device='cuda:0')\n",
      "net.25.policy.segment_semantic\n",
      "tensor([0., 1., 0.], device='cuda:0')\n",
      "tensor([0., 1., 0.], device='cuda:0')\n",
      "net.25.policy.depth_zbuffer\n",
      "tensor([0., 0., 1.], device='cuda:0')\n",
      "tensor([0., 0., 1.], device='cuda:0')\n",
      "net.27.policy.segment_semantic\n",
      "tensor([1., 0., 0.], device='cuda:0')\n",
      "tensor([1., 0., 0.], device='cuda:0')\n",
      "net.27.policy.depth_zbuffer\n",
      "tensor([1., 0., 0.], device='cuda:0')\n",
      "tensor([1., 0., 0.], device='cuda:0')\n",
      "net.30.policy.segment_semantic\n",
      "tensor([1., 0., 0.], device='cuda:0')\n",
      "tensor([1., 0., 0.], device='cuda:0')\n",
      "net.30.policy.depth_zbuffer\n",
      "tensor([0., 0., 1.], device='cuda:0')\n",
      "tensor([0., 0., 1.], device='cuda:0')\n",
      "net.34.policy.segment_semantic\n",
      "tensor([0., 1., 0.], device='cuda:0')\n",
      "tensor([0., 1., 0.], device='cuda:0')\n",
      "net.34.policy.depth_zbuffer\n",
      "tensor([1., 0., 0.], device='cuda:0')\n",
      "tensor([1., 0., 0.], device='cuda:0')\n",
      "net.37.policy.segment_semantic\n",
      "tensor([0., 0., 1.], device='cuda:0')\n",
      "tensor([0., 0., 1.], device='cuda:0')\n",
      "net.37.policy.depth_zbuffer\n",
      "tensor([0., 0., 1.], device='cuda:0')\n",
      "tensor([0., 0., 1.], device='cuda:0')\n",
      "net.41.policy.segment_semantic\n",
      "tensor([1., 0., 0.], device='cuda:0')\n",
      "tensor([1., 0., 0.], device='cuda:0')\n",
      "net.41.policy.depth_zbuffer\n",
      "tensor([1., 0., 0.], device='cuda:0')\n",
      "tensor([1., 0., 0.], device='cuda:0')\n",
      "net.44.policy.segment_semantic\n",
      "tensor([0., 1., 0.], device='cuda:0')\n",
      "tensor([0., 1., 0.], device='cuda:0')\n",
      "net.44.policy.depth_zbuffer\n",
      "tensor([1., 0., 0.], device='cuda:0')\n",
      "tensor([1., 0., 0.], device='cuda:0')\n",
      "net.48.policy.segment_semantic\n",
      "tensor([0., 0., 1.], device='cuda:0')\n",
      "tensor([0., 0., 1.], device='cuda:0')\n",
      "net.48.policy.depth_zbuffer\n",
      "tensor([1., 0., 0.], device='cuda:0')\n",
      "tensor([1., 0., 0.], device='cuda:0')\n",
      "net.51.policy.segment_semantic\n",
      "tensor([0., 1., 0.], device='cuda:0')\n",
      "tensor([0., 1., 0.], device='cuda:0')\n",
      "net.51.policy.depth_zbuffer\n",
      "tensor([1., 0., 0.], device='cuda:0')\n",
      "tensor([1., 0., 0.], device='cuda:0')\n",
      "net.55.policy.segment_semantic\n",
      "tensor([0., 1., 0.], device='cuda:0')\n",
      "tensor([0., 1., 0.], device='cuda:0')\n",
      "net.55.policy.depth_zbuffer\n",
      "tensor([0., 0., 1.], device='cuda:0')\n",
      "tensor([0., 0., 1.], device='cuda:0')\n",
      "net.57.policy.segment_semantic\n",
      "tensor([1., 0., 0.], device='cuda:0')\n",
      "tensor([1., 0., 0.], device='cuda:0')\n",
      "net.57.policy.depth_zbuffer\n",
      "tensor([1., 0., 0.], device='cuda:0')\n",
      "tensor([1., 0., 0.], device='cuda:0')\n",
      "net.60.policy.segment_semantic\n",
      "tensor([0., 0., 1.], device='cuda:0')\n",
      "tensor([0., 0., 1.], device='cuda:0')\n",
      "net.60.policy.depth_zbuffer\n",
      "tensor([1., 0., 0.], device='cuda:0')\n",
      "tensor([1., 0., 0.], device='cuda:0')\n",
      "net.64.policy.segment_semantic\n",
      "tensor([0., 1., 0.], device='cuda:0')\n",
      "tensor([0., 0., 1.], device='cuda:0')\n",
      "net.64.policy.depth_zbuffer\n",
      "tensor([0., 0., 1.], device='cuda:0')\n",
      "tensor([0., 0., 1.], device='cuda:0')\n",
      "net.67.policy.segment_semantic\n",
      "tensor([0., 1., 0.], device='cuda:0')\n",
      "tensor([0., 1., 0.], device='cuda:0')\n",
      "net.67.policy.depth_zbuffer\n",
      "tensor([0., 0., 1.], device='cuda:0')\n",
      "tensor([0., 0., 1.], device='cuda:0')\n",
      "net.71.policy.segment_semantic\n",
      "tensor([1., 0., 0.], device='cuda:0')\n",
      "tensor([1., 0., 0.], device='cuda:0')\n",
      "net.71.policy.depth_zbuffer\n",
      "tensor([0., 1., 0.], device='cuda:0')\n",
      "tensor([0., 1., 0.], device='cuda:0')\n",
      "net.74.policy.segment_semantic\n",
      "tensor([1., 0., 0.], device='cuda:0')\n",
      "tensor([1., 0., 0.], device='cuda:0')\n",
      "net.74.policy.depth_zbuffer\n",
      "tensor([0., 0., 1.], device='cuda:0')\n",
      "tensor([0., 0., 1.], device='cuda:0')\n",
      "net.78.policy.segment_semantic\n",
      "tensor([0., 1., 0.], device='cuda:0')\n",
      "tensor([0., 0., 1.], device='cuda:0')\n",
      "net.78.policy.depth_zbuffer\n",
      "tensor([1., 0., 0.], device='cuda:0')\n",
      "tensor([1., 0., 0.], device='cuda:0')\n",
      "net.81.policy.segment_semantic\n",
      "tensor([0., 1., 0.], device='cuda:0')\n",
      "tensor([0., 1., 0.], device='cuda:0')\n",
      "net.81.policy.depth_zbuffer\n",
      "tensor([0., 1., 0.], device='cuda:0')\n",
      "tensor([0., 1., 0.], device='cuda:0')\n",
      "net.85.policy.segment_semantic\n",
      "tensor([0., 1., 0.], device='cuda:0')\n",
      "tensor([0., 1., 0.], device='cuda:0')\n",
      "net.85.policy.depth_zbuffer\n",
      "tensor([0., 0., 1.], device='cuda:0')\n",
      "tensor([0., 0., 1.], device='cuda:0')\n",
      "net.88.policy.segment_semantic\n",
      "tensor([0., 1., 0.], device='cuda:0')\n",
      "tensor([0., 1., 0.], device='cuda:0')\n",
      "net.88.policy.depth_zbuffer\n",
      "tensor([0., 1., 0.], device='cuda:0')\n",
      "tensor([0., 1., 0.], device='cuda:0')\n",
      "net.92.policy.segment_semantic\n",
      "tensor([0., 1., 0.], device='cuda:0')\n",
      "tensor([0., 1., 0.], device='cuda:0')\n",
      "net.92.policy.depth_zbuffer\n",
      "tensor([0., 1., 0.], device='cuda:0')\n",
      "tensor([0., 1., 0.], device='cuda:0')\n",
      "net.95.policy.segment_semantic\n",
      "tensor([0., 1., 0.], device='cuda:0')\n",
      "tensor([0., 1., 0.], device='cuda:0')\n",
      "net.95.policy.depth_zbuffer\n",
      "tensor([1., 0., 0.], device='cuda:0')\n",
      "tensor([1., 0., 0.], device='cuda:0')\n",
      "net.99.policy.segment_semantic\n",
      "tensor([0., 1., 0.], device='cuda:0')\n",
      "tensor([0., 1., 0.], device='cuda:0')\n",
      "net.99.policy.depth_zbuffer\n",
      "tensor([1., 0., 0.], device='cuda:0')\n",
      "tensor([1., 0., 0.], device='cuda:0')\n",
      "net.101.policy.segment_semantic\n",
      "tensor([0., 0., 1.], device='cuda:0')\n",
      "tensor([0., 0., 1.], device='cuda:0')\n",
      "net.101.policy.depth_zbuffer\n",
      "tensor([1., 0., 0.], device='cuda:0')\n",
      "tensor([1., 0., 0.], device='cuda:0')\n",
      "net.104.policy.segment_semantic\n",
      "tensor([0., 1., 0.], device='cuda:0')\n",
      "tensor([0., 1., 0.], device='cuda:0')\n",
      "net.104.policy.depth_zbuffer\n",
      "tensor([1., 0., 0.], device='cuda:0')\n",
      "tensor([1., 0., 0.], device='cuda:0')\n",
      "net.108.policy.segment_semantic\n",
      "tensor([0., 0., 1.], device='cuda:0')\n",
      "tensor([0., 0., 1.], device='cuda:0')\n",
      "net.108.policy.depth_zbuffer\n",
      "tensor([1., 0., 0.], device='cuda:0')\n",
      "tensor([1., 0., 0.], device='cuda:0')\n",
      "net.111.policy.segment_semantic\n",
      "tensor([1., 0., 0.], device='cuda:0')\n",
      "tensor([1., 0., 0.], device='cuda:0')\n",
      "net.111.policy.depth_zbuffer\n",
      "tensor([0., 0., 1.], device='cuda:0')\n",
      "tensor([0., 1., 0.], device='cuda:0')\n",
      "net.115.policy.segment_semantic\n",
      "tensor([1., 0., 0.], device='cuda:0')\n",
      "tensor([1., 0., 0.], device='cuda:0')\n",
      "net.115.policy.depth_zbuffer\n",
      "tensor([1., 0., 0.], device='cuda:0')\n",
      "tensor([1., 0., 0.], device='cuda:0')\n",
      "net.118.policy.segment_semantic\n",
      "tensor([1., 0., 0.], device='cuda:0')\n",
      "tensor([1., 0., 0.], device='cuda:0')\n",
      "net.118.policy.depth_zbuffer\n",
      "tensor([0., 1., 0.], device='cuda:0')\n",
      "tensor([1., 0., 0.], device='cuda:0')\n"
     ]
    }
   ],
   "source": [
    "for key in state1['state_dict']:\n",
    "    if 'policy' in key:\n",
    "        policy1 = state1['state_dict'][key]\n",
    "        if np.array_equal(policy1.cpu().numpy(), np.array([0.,0.,0.])):\n",
    "            pass\n",
    "        else:\n",
    "            policy2 = state2['state_dict'][key]\n",
    "            print(key)\n",
    "            print(policy1)\n",
    "            print(policy2)"
   ]
  },
  {
   "cell_type": "code",
   "execution_count": 13,
   "metadata": {},
   "outputs": [
    {
     "data": {
      "text/plain": [
       "0.32163029969275403"
      ]
     },
     "execution_count": 13,
     "metadata": {},
     "output_type": "execute_result"
    }
   ],
   "source": [
    "singleParam = 0\n",
    "mtlParam = 0\n",
    "for node in mtlmodel.net:\n",
    "    if node.taskSp and not node.assumeSp:\n",
    "        shared = False\n",
    "        \n",
    "        params = node.basicOp.weight.data.nelement()\n",
    "        if node.basicOp.bias is not None:\n",
    "            params += node.basicOp.bias.data.nelement()\n",
    "        singleParam += params\n",
    "        \n",
    "        for task in tasks:\n",
    "            policy = node.policy[task].data.cpu().detach().numpy()\n",
    "            if np.array_equal(policy, np.array([1.,0.,0.])):\n",
    "                if not shared:\n",
    "                    mtlParam += params\n",
    "                    shared = True\n",
    "            elif np.array_equal(policy, np.array([0.,1.,0.])):\n",
    "                mtlParam += params\n",
    "                \n",
    "1 - mtlParam / (singleParam * len(tasks))"
   ]
  },
  {
   "cell_type": "code",
   "execution_count": 14,
   "metadata": {},
   "outputs": [
    {
     "data": {
      "text/plain": [
       "28854656"
      ]
     },
     "execution_count": 14,
     "metadata": {},
     "output_type": "execute_result"
    }
   ],
   "source": [
    "mtlParam"
   ]
  },
  {
   "cell_type": "code",
   "execution_count": 12,
   "metadata": {},
   "outputs": [
    {
     "data": {
      "text/plain": [
       "21267648"
      ]
     },
     "execution_count": 12,
     "metadata": {},
     "output_type": "execute_result"
    }
   ],
   "source": [
    "singleParam"
   ]
  },
  {
   "cell_type": "code",
   "execution_count": 15,
   "metadata": {},
   "outputs": [
    {
     "data": {
      "text/plain": [
       "28.877519772379156"
      ]
     },
     "execution_count": 15,
     "metadata": {},
     "output_type": "execute_result"
    }
   ],
   "source": [
    "42.569*(1-0.32163029969275403)"
   ]
  },
  {
   "cell_type": "markdown",
   "metadata": {},
   "source": [
    "# Inference Time"
   ]
  },
  {
   "cell_type": "code",
   "execution_count": 13,
   "metadata": {},
   "outputs": [],
   "source": [
    "import time\n",
    "\n",
    "from data.dataloader.cityscapes_dataloader import CityScapes\n",
    "from data.metrics.pixel2pixel_loss import CityScapesCriterions\n",
    "from data.metrics.pixel2pixel_metrics import CityScapesMetrics"
   ]
  },
  {
   "cell_type": "code",
   "execution_count": 29,
   "metadata": {},
   "outputs": [],
   "source": [
    "dataroot = '/work/lijunzhang_umass_edu/data/policymtl/data/Cityscapes/'\n",
    "\n",
    "valDataloaderDict = {}\n",
    "for task in tasks:\n",
    "    dataset = CityScapes(dataroot, 'test', task)\n",
    "    valDataloaderDict[task] = DataLoader(dataset, 1, shuffle=False)"
   ]
  },
  {
   "cell_type": "code",
   "execution_count": 74,
   "metadata": {
    "scrolled": true,
    "tags": []
   },
   "outputs": [],
   "source": [
    "times = []\n",
    "val_iter_dict = {}\n",
    "for task in tasks:\n",
    "    val_iter_dict[task] = iter(valDataloaderDict[task])\n",
    "for i in range(50):\n",
    "    temp = 0\n",
    "    for task in tasks:\n",
    "        x = next(val_iter_dict[task])['input'].cuda()\n",
    "        start_time = time.time()\n",
    "        # with torch.no_grad():\n",
    "        output = mtlmodel(x, task=task, hard=True)\n",
    "        temp += time.time()-start_time\n",
    "    times.append(temp)"
   ]
  },
  {
   "cell_type": "code",
   "execution_count": 75,
   "metadata": {},
   "outputs": [
    {
     "data": {
      "text/plain": [
       "37.14889049530029"
      ]
     },
     "execution_count": 75,
     "metadata": {},
     "output_type": "execute_result"
    }
   ],
   "source": [
    "from statistics import mean\n",
    "mean(times[0:])*1000"
   ]
  },
  {
   "cell_type": "code",
   "execution_count": 26,
   "metadata": {
    "scrolled": true,
    "tags": []
   },
   "outputs": [
    {
     "data": {
      "text/plain": [
       "[0.06999659538269043,\n",
       " 0.06348466873168945,\n",
       " 0.05932426452636719,\n",
       " 0.05931568145751953,\n",
       " 0.059459686279296875,\n",
       " 0.05993509292602539,\n",
       " 0.05976247787475586,\n",
       " 0.059697628021240234,\n",
       " 0.059816598892211914,\n",
       " 0.05985713005065918,\n",
       " 0.059030771255493164,\n",
       " 0.0597686767578125,\n",
       " 0.06000065803527832,\n",
       " 0.05977606773376465,\n",
       " 0.059503793716430664,\n",
       " 0.06101417541503906,\n",
       " 0.058699607849121094,\n",
       " 0.05982851982116699,\n",
       " 0.05980348587036133,\n",
       " 0.05955219268798828,\n",
       " 0.05962181091308594,\n",
       " 0.05957198143005371,\n",
       " 0.0600736141204834,\n",
       " 0.05986833572387695,\n",
       " 0.05948901176452637,\n",
       " 0.059577226638793945,\n",
       " 0.059743404388427734,\n",
       " 0.060059309005737305,\n",
       " 0.05996894836425781,\n",
       " 0.05944991111755371,\n",
       " 0.059204816818237305,\n",
       " 0.05974936485290527,\n",
       " 0.05995893478393555,\n",
       " 0.059630632400512695,\n",
       " 0.059545040130615234,\n",
       " 0.05965900421142578,\n",
       " 0.0594785213470459,\n",
       " 0.05977582931518555,\n",
       " 0.05985307693481445,\n",
       " 0.059745073318481445,\n",
       " 0.05974149703979492,\n",
       " 0.06208634376525879,\n",
       " 0.059734344482421875,\n",
       " 0.05978083610534668,\n",
       " 0.05975818634033203,\n",
       " 0.05962967872619629,\n",
       " 0.05937075614929199,\n",
       " 0.06053638458251953,\n",
       " 0.0600430965423584,\n",
       " 0.05990719795227051]"
      ]
     },
     "execution_count": 26,
     "metadata": {},
     "output_type": "execute_result"
    }
   ],
   "source": [
    "times"
   ]
  },
  {
   "cell_type": "code",
   "execution_count": null,
   "metadata": {},
   "outputs": [],
   "source": []
  }
 ],
 "metadata": {
  "kernelspec": {
   "display_name": "Python (.conda-multitask)",
   "language": "python",
   "name": "conda-env-.conda-multitask-py"
  },
  "language_info": {
   "codemirror_mode": {
    "name": "ipython",
    "version": 3
   },
   "file_extension": ".py",
   "mimetype": "text/x-python",
   "name": "python",
   "nbconvert_exporter": "python",
   "pygments_lexer": "ipython3",
   "version": "3.6.12"
  }
 },
 "nbformat": 4,
 "nbformat_minor": 4
}
